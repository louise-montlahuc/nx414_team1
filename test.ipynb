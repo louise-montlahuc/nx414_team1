{
 "cells": [
  {
   "cell_type": "markdown",
   "id": "323fcca8",
   "metadata": {},
   "source": [
    "# Example of usage of our best model"
   ]
  },
  {
   "cell_type": "code",
   "execution_count": null,
   "id": "8a0b7d0d",
   "metadata": {},
   "outputs": [],
   "source": []
  },
  {
   "cell_type": "markdown",
   "id": "b5eb87bb",
   "metadata": {},
   "source": [
    "## Import libraries and utility functions"
   ]
  },
  {
   "cell_type": "code",
   "execution_count": null,
   "id": "a14e122c",
   "metadata": {},
   "outputs": [],
   "source": []
  },
  {
   "cell_type": "markdown",
   "id": "63fb16ab",
   "metadata": {},
   "source": [
    "## Setup model and data"
   ]
  },
  {
   "cell_type": "code",
   "execution_count": null,
   "id": "c1b682f7",
   "metadata": {},
   "outputs": [],
   "source": []
  },
  {
   "cell_type": "markdown",
   "id": "2dd61e4e",
   "metadata": {},
   "source": [
    "## Make neural predictions"
   ]
  },
  {
   "cell_type": "code",
   "execution_count": null,
   "id": "7eebfb2f",
   "metadata": {},
   "outputs": [],
   "source": []
  },
  {
   "cell_type": "markdown",
   "id": "448a536c",
   "metadata": {},
   "source": [
    "## Analyze predictions"
   ]
  },
  {
   "cell_type": "code",
   "execution_count": null,
   "id": "f12ffaab",
   "metadata": {},
   "outputs": [],
   "source": []
  }
 ],
 "metadata": {
  "language_info": {
   "name": "python"
  }
 },
 "nbformat": 4,
 "nbformat_minor": 5
}

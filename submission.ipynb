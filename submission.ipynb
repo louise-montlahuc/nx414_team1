{
 "cells": [
  {
   "cell_type": "markdown",
   "id": "7e0c8087",
   "metadata": {},
   "source": [
    "# NX-414 - Mini-project"
   ]
  },
  {
   "cell_type": "markdown",
   "id": "558f1b3a",
   "metadata": {},
   "source": [
    "Group members: Kolly Florian, Mikami Sarah, Montlahuc Louise\n",
    "\n",
    "## Project description\n",
    "The objectives of the project are:\n",
    "- Predict neural activity using linear regression from images and from neural network layers.\n",
    "- Quantify the goodness of the model\n",
    "- Compare the results across the network layers and between trained/random neural network\n",
    "- Predict the neural activity using a neural network in a data-driven approach\n",
    "- Develop the most accurate model for predicting IT neural activity\n",
    "\n",
    "Specifically, we use the data from the following [paper](https://www.jneurosci.org/content/jneuro/35/39/13402.full.pdf). The behavioral experiment consisted in showing to non-human primates some images while recording the neural activity with multielectrode arrays from the inferior temporal (IT) cortex. In the data we provided you, the neural activity and the images are already pre-processed and you will have available the images and the corresponding average firing rate (between 70 and 170 ms) per each neuron."
   ]
  },
  {
   "cell_type": "markdown",
   "id": "d33ee37e",
   "metadata": {},
   "source": [
    "## Imports"
   ]
  },
  {
   "cell_type": "code",
   "execution_count": null,
   "id": "271a3c4b",
   "metadata": {},
   "outputs": [],
   "source": [
    "# ALL NECESSARY IMPORTS\n",
    "from abc import ABC\n",
    "import inspect\n",
    "import h5py\n",
    "import os\n",
    "\n",
    "import gdown\n",
    "from tqdm import tqdm\n",
    "import torch\n",
    "from torch import nn\n",
    "from torch.utils.data import DataLoader, TensorDataset, Dataset\n",
    "from torch.optim.lr_scheduler import CosineAnnealingLR, LambdaLR, SequentialLR\n",
    "import numpy as np\n",
    "import matplotlib.pyplot as plt\n",
    "from sklearn.linear_model import LinearRegression, Ridge\n",
    "from sklearn.metrics import explained_variance_score\n",
    "from scipy.stats import pearsonr\n",
    "from sklearn.decomposition import PCA\n",
    "from sklearn.model_selection import GridSearchCV, StratifiedGroupKFold\n",
    "from sklearn.calibration import LabelEncoder\n",
    "from fvcore.common.registry import Registry\n",
    "from torchvision.models import resnet50, resnext101_32x8d, convnext_base, resnet18, vit_b_16\n",
    "from torchvision.models import ResNet50_Weights, ResNeXt101_32X8D_Weights, ConvNeXt_Base_Weights, ResNet18_Weights, ViT_B_16_Weights"
   ]
  },
  {
   "cell_type": "markdown",
   "id": "5b6db4f1",
   "metadata": {},
   "source": [
    "## Models interface"
   ]
  },
  {
   "cell_type": "markdown",
   "id": "4feeadfc",
   "metadata": {},
   "source": [
    "For genericity and reusability, we define an interface for all models."
   ]
  },
  {
   "cell_type": "code",
   "execution_count": 2,
   "id": "43e13781",
   "metadata": {},
   "outputs": [],
   "source": [
    "# IModel INTERFACE\n",
    "class IModel(ABC, nn.Module):\n",
    "    \"\"\"\n",
    "    Abstract base class for a model.\n",
    "    This class defines the interface that all model classes must implement.\n",
    "    All models inheriting from this class should have a self.model attribute!\n",
    "    \"\"\"\n",
    "    def __init__(self):\n",
    "        super().__init__()\n",
    "        self.PCs = dict()\n",
    "        self.PCA = None\n",
    "        self.ACTs = dict()\n",
    "\n",
    "    def forward(self, images):\n",
    "        return self.model(images)\n",
    "    \n",
    "    def get_layers(self):\n",
    "        \"\"\"\n",
    "        Returns the layers on which to do the linear probing.\n",
    "        \"\"\"\n",
    "        layers = []\n",
    "        layers_name = [name for name, _ in self.model.named_children()]\n",
    "        for name in layers_name[-4:]:\n",
    "            module = self.model.get_submodule(name)\n",
    "            layers.append((name, module))\n",
    "        return layers\n",
    "        \n",
    "    def get_activations(self, hook_name):\n",
    "        \"\"\"\n",
    "        Returns the activations of the model.\n",
    "        The hook_name can be 'all' for all activations or 'pca' for 1000 principal components.\n",
    "        \"\"\"\n",
    "        if hook_name == 'all':\n",
    "            return self.ACTs\n",
    "        elif hook_name == 'pca':\n",
    "            return self.PCs\n",
    "        else:\n",
    "            raise ValueError(\"Invalid hook name. Use 'all' or 'pca'.\")\n",
    "        \n",
    "    def reset_activations(self):\n",
    "        \"\"\"\n",
    "        Resets the activations of the model.\n",
    "        \"\"\"\n",
    "        self.PCs = dict()\n",
    "        self.ACTs = dict()\n",
    "\n",
    "    def _get_PCs_hook(self, module, input, output, layer_name):\n",
    "        print('Layer:', layer_name)\n",
    "        activations = output.detach().cpu().numpy().reshape(output.shape[0], -1)\n",
    "        print('Activations shape:', activations.shape)\n",
    "        pca = PCA(n_components=1000)\n",
    "        print(pca.type())\n",
    "        self.PCA = pca\n",
    "        pca_features = pca.fit_transform(activations)\n",
    "        print('Principal components shape:', pca_features.shape)\n",
    "        self.PCs[layer_name] = pca_features\n",
    "\n",
    "    def _get_activations_hook(self, module, input, output, layer_name):\n",
    "        activations = output.detach().cpu().numpy().reshape(output.shape[0], -1)\n",
    "        self.ACTs[layer_name] = activations\n",
    "    \n",
    "    def register_hook(self, hook_name):\n",
    "        \"\"\"\n",
    "        Registers a hook to the model.\n",
    "        The hook can be 'all' for all activations or 'pca' for 1000 principal components.\n",
    "        \"\"\"\n",
    "        handles = []\n",
    "        for name, layer in self.get_layers():\n",
    "            if hook_name == 'all':\n",
    "                handle = layer.register_forward_hook(lambda m, i, o, n=name: self._get_activations_hook(m, i, o, n))\n",
    "            elif hook_name == 'pca':\n",
    "                handle = layer.register_forward_hook(lambda m, i, o, n=name: self._get_PCs_hook(m, i, o, n))\n",
    "            handles.append(handle)\n",
    "        return handles\n",
    "    \n",
    "    def change_head(self, layer, num_classes):\n",
    "        \"\"\"\n",
    "        Sets a final head (classification or regression) after the indicated layer.\n",
    "        \"\"\"\n",
    "        return ModifiedModel(self.model, layer, num_classes)"
   ]
  },
  {
   "cell_type": "markdown",
   "id": "8e654f1f",
   "metadata": {},
   "source": [
    "For finetuning models, we create a class that extends our generic model interface ```IModel``` and contains both the original model alongside the modified model. As we are testing multiple models and multiple finetuning methods, our goal is to stay as generic as possible."
   ]
  },
  {
   "cell_type": "code",
   "execution_count": 3,
   "id": "c0711176",
   "metadata": {},
   "outputs": [],
   "source": [
    "# ModifiedModel class\n",
    "class ModifiedModel(IModel):\n",
    "    def __init__(self, base_model, insert_after, num_classes):\n",
    "        super().__init__()\n",
    "        self.base_model = base_model\n",
    "        self.insert_after = insert_after\n",
    "        self.num_classes = num_classes\n",
    "\n",
    "        # Extract layers up to the insertion point\n",
    "        self.features = nn.Sequential()\n",
    "        for name, module in base_model.named_children():\n",
    "            self.features.add_module(name, module)\n",
    "            if name == insert_after:\n",
    "                self.layer = (name, module)\n",
    "                break\n",
    "\n",
    "        # TODO testing freezing the layers\n",
    "        # for param in self.features.parameters():\n",
    "        #     param.requires_grad = False\n",
    "\n",
    "        # Determine input dim for new head\n",
    "        dummy_input = torch.randn(1, 3, 224, 224)\n",
    "        with torch.no_grad():\n",
    "            out = self._forward_features(dummy_input)\n",
    "        out = out.view(out.size(0), -1)\n",
    "        head_in_features = out.shape[1]\n",
    "\n",
    "        # Define new head (classification or regression)\n",
    "        self.fc = nn.Sequential(\n",
    "            nn.Flatten(),\n",
    "            nn.Linear(head_in_features, 1024),\n",
    "            nn.ReLU(),\n",
    "            nn.Dropout(0.3),\n",
    "            nn.Linear(1024, num_classes)\n",
    "        )\n",
    "\n",
    "    def _forward_features(self, x):\n",
    "        for name, module in self.features.named_children():\n",
    "            if isinstance(module, nn.ModuleList):\n",
    "                for submodule in module:\n",
    "                    x = submodule(x)\n",
    "            else:\n",
    "                x = module(x)\n",
    "        return x\n",
    "\n",
    "    def forward(self, x):\n",
    "        x = self._forward_features(x)\n",
    "        x = self.fc(x)\n",
    "        return x\n",
    "    \n",
    "    def get_layers(self):\n",
    "        return self.layer"
   ]
  },
  {
   "cell_type": "markdown",
   "id": "0485a44a",
   "metadata": {},
   "source": [
    "We then create a build function that takes a model name and a set of parameters, and returns the corresponding model."
   ]
  },
  {
   "cell_type": "code",
   "execution_count": 4,
   "id": "09dcfe92",
   "metadata": {},
   "outputs": [],
   "source": [
    "MODEL_REGISTRY = Registry(\"MODEL\")\n",
    "MODEL_REGISTRY.__doc__ = \"\"\"\n",
    "Registry for models.\n",
    "\n",
    "The registered object will be called with `obj()`.\n",
    "The call should return a `nn.Module` object.\n",
    "\"\"\"\n",
    "\n",
    "def accepts_seed(cls):\n",
    "    init = cls.__init__\n",
    "    sig = inspect.signature(init)\n",
    "    return 'seed' in sig.parameters\n",
    "\n",
    "def make_model(name, seed):\n",
    "    \"\"\"\n",
    "    Builds the video model.\n",
    "    Args:\n",
    "        name (string): name of the model to build.\n",
    "    Returns:\n",
    "        model (nn.Module): the built model.\n",
    "    \"\"\"\n",
    "    model = MODEL_REGISTRY.get(name)\n",
    "    if accepts_seed(model):\n",
    "        model = model(seed)\n",
    "    else:\n",
    "        model = model()\n",
    "    \n",
    "    return model"
   ]
  },
  {
   "cell_type": "markdown",
   "id": "8848aebf",
   "metadata": {},
   "source": [
    "## Loading the data"
   ]
  },
  {
   "cell_type": "markdown",
   "id": "eefe7ba9",
   "metadata": {},
   "source": [
    "Let's now setup the loading of the data. We start with some utility functions that were given in the project."
   ]
  },
  {
   "cell_type": "code",
   "execution_count": 5,
   "id": "5d5a0034",
   "metadata": {},
   "outputs": [],
   "source": [
    "### Utils\n",
    "def download_data(path_to_data):\n",
    "    if not os.path.exists(path_to_data):\n",
    "        os.makedirs(os.path.dirname(path_to_data))\n",
    "    output = \"IT_data.h5\"\n",
    "    data_path = os.path.join(path_to_data, output)\n",
    "    if not os.path.exists(data_path):\n",
    "        url = \"https://drive.google.com/file/d/1s6caFNRpyR9m7ZM6XEv_e8mcXT3_PnHS/view?usp=share_link\"\n",
    "        gdown.download(url, os.path.join(path_to_data, output), quiet=False, fuzzy=True)\n",
    "\n",
    "def load_it_data(path_to_data):\n",
    "    \"\"\" Load IT data\n",
    "\n",
    "    Args:\n",
    "        path_to_data (str): Path to the data\n",
    "\n",
    "    Returns:\n",
    "        np.array (x6): Stimulus train/val/test; objects list train/val/test; spikes train/val\n",
    "    \"\"\"\n",
    "\n",
    "    datafile = h5py.File(os.path.join(path_to_data,'IT_data.h5'), 'r')\n",
    "\n",
    "    stimulus_train = datafile['stimulus_train'][()]\n",
    "    spikes_train = datafile['spikes_train'][()]\n",
    "    objects_train = datafile['object_train'][()]\n",
    "    \n",
    "    stimulus_val = datafile['stimulus_val'][()]\n",
    "    spikes_val = datafile['spikes_val'][()]\n",
    "    objects_val = datafile['object_val'][()]\n",
    "    \n",
    "    stimulus_test = datafile['stimulus_test'][()]\n",
    "    objects_test = datafile['object_test'][()]\n",
    "\n",
    "    ### Decode back object type to latin\n",
    "    objects_train = [obj_tmp.decode(\"latin-1\") for obj_tmp in objects_train]\n",
    "    objects_val = [obj_tmp.decode(\"latin-1\") for obj_tmp in objects_val]\n",
    "    objects_test = [obj_tmp.decode(\"latin-1\") for obj_tmp in objects_test]\n",
    "\n",
    "    return stimulus_train, stimulus_val, stimulus_test, objects_train, objects_val, objects_test, spikes_train, spikes_val"
   ]
  },
  {
   "cell_type": "markdown",
   "id": "1ce109f0",
   "metadata": {},
   "source": [
    "Let's now create a function for retrieving the data we are interested in."
   ]
  },
  {
   "cell_type": "code",
   "execution_count": 6,
   "id": "fea70b28",
   "metadata": {},
   "outputs": [],
   "source": [
    "def get_data():\n",
    "    \"\"\"Get the data from the IT dataset.\n",
    "\n",
    "    Returns:\n",
    "        tuple: tuples (stimulus, objects, spikes) for training and validation sets.\n",
    "    \"\"\"\n",
    "    stimulus_train, stimulus_val, stimulus_test, objects_train, objects_val, objects_test, spikes_train, spikes_val = load_it_data('src/data/')\n",
    "    return (stimulus_train, objects_train, spikes_train), (stimulus_val, objects_val, spikes_val)"
   ]
  },
  {
   "cell_type": "markdown",
   "id": "1594daa0",
   "metadata": {},
   "source": [
    "## Part 1: Linear regression models to predict neural activity from pixels"
   ]
  },
  {
   "cell_type": "markdown",
   "id": "3c488a06",
   "metadata": {},
   "source": [
    "First, we load the dataset using the functions defined above."
   ]
  },
  {
   "cell_type": "code",
   "execution_count": 7,
   "id": "ffe3db54",
   "metadata": {},
   "outputs": [],
   "source": [
    "train_data, val_data = get_data()\n",
    "stimulus_train, objects_train, spikes_train = train_data\n",
    "stimulus_val, objects_val, spikes_val = val_data"
   ]
  },
  {
   "cell_type": "markdown",
   "id": "61aad0ff",
   "metadata": {},
   "source": [
    "In the first part of the project, we develop a linear regression model which can predict the neural activity from pixels. We use three different types of linear regression: least-square regression, ridge regression, and ridge regression with high regularization."
   ]
  },
  {
   "cell_type": "code",
   "execution_count": null,
   "id": "976c3656",
   "metadata": {},
   "outputs": [
    {
     "name": "stderr",
     "output_type": "stream",
     "text": [
      "/opt/anaconda3/envs/nx-414/lib/python3.10/site-packages/sklearn/linear_model/_ridge.py:252: LinAlgWarning: Ill-conditioned matrix (rcond=2.92552e-09): result may not be accurate.\n",
      "  dual_coef = linalg.solve(K, y, assume_a=\"pos\", overwrite_a=False)\n"
     ]
    },
    {
     "name": "stdout",
     "output_type": "stream",
     "text": [
      "Linear regression score on training data:  0.3549268841743469\n",
      "Ridge regression score on training data:  0.9999985694885254\n",
      "Ridge regression score with high regularization on training data:  0.9958826899528503\n",
      "Linear regression score on validation data:  -0.03741227462887764\n",
      "Ridge regression score on validation data:  -1.167136549949646\n",
      "Ridge regression score with high regularization on validation data:  -0.9105490446090698\n"
     ]
    }
   ],
   "source": [
    "linreg = LinearRegression()\n",
    "ridge = Ridge(alpha=1.0)\n",
    "ridge_highreg = Ridge(alpha=100.0)\n",
    "\n",
    "# Flatten the images into a 2D array (n_stimulus, n_channels * img_size * img_size)\n",
    "stim_train = stimulus_train.reshape(stimulus_train.shape[0], -1)\n",
    "\n",
    "linreg.fit(stim_train, spikes_train)\n",
    "ridge.fit(stim_train, spikes_train)\n",
    "ridge_highreg.fit(stim_train, spikes_train)\n",
    "\n",
    "# Evaluate the models on the training data (R^2 score), if too high can indicate overfitting\n",
    "linreg_score_train = linreg.score(stim_train, spikes_train)\n",
    "ridge_score_train = ridge.score(stim_train, spikes_train)\n",
    "ridge_highreg_score_train = ridge_highreg.score(stim_train, spikes_train)\n",
    "\n",
    "print('Linear regression score on training data: ', linreg_score_train)\n",
    "print('Ridge regression score on training data: ', ridge_score_train)\n",
    "print('Ridge regression score with high regularization on training data: ', ridge_highreg_score_train)\n",
    "\n",
    "stim_val = stimulus_val.reshape(stimulus_val.shape[0], -1)\n",
    "\n",
    "# Evaluate the models on the validation data (R^2 score)\n",
    "linreg_score_val = linreg.score(stim_val, spikes_val)\n",
    "ridge_score_val = ridge.score(stim_val, spikes_val)\n",
    "ridge_highreg_score_val = ridge_highreg.score(stim_val, spikes_val)\n",
    "\n",
    "print('Linear regression score on validation data: ', linreg_score_val)\n",
    "print('Ridge regression score on validation data: ', ridge_score_val)\n",
    "print('Ridge regression score with high regularization on validation data: ', ridge_highreg_score_val)"
   ]
  },
  {
   "cell_type": "markdown",
   "id": "16814b92",
   "metadata": {},
   "source": [
    "Now, we can evaluate your prediction by checking both the correlation and explained variance for each neuron. We plot the distribution for the explained variance across neurons."
   ]
  },
  {
   "cell_type": "code",
   "execution_count": null,
   "id": "c844e774",
   "metadata": {},
   "outputs": [],
   "source": [
    "def evaluate_model(model, stimulus, spikes):\n",
    "    pred = model.predict(stimulus.reshape(stimulus.shape[0], -1))\n",
    "\n",
    "    correlations = []\n",
    "    explained_variances = []\n",
    "\n",
    "    for i in range(spikes.shape[1]):\n",
    "        # Correlation\n",
    "        corr, _ = pearsonr(pred[:, i], spikes[:, i])\n",
    "        correlations.append(corr)\n",
    "        \n",
    "        # Explained variance\n",
    "        ev = explained_variance_score(pred[:, i], spikes[:, i])\n",
    "        explained_variances.append(ev)\n",
    "\n",
    "    # Plot distribution of explained variance\n",
    "    plt.hist(explained_variances, bins=20, edgecolor='k', alpha=0.7)\n",
    "    plt.xlabel('Explained variance')\n",
    "    plt.ylabel('# neurons')\n",
    "    plt.title('Distribution of explained variance across neurons')\n",
    "    plt.show()\n",
    "\n",
    "evaluate_model(linreg, stimulus_val, spikes_val)"
   ]
  },
  {
   "cell_type": "markdown",
   "id": "2eb73017",
   "metadata": {},
   "source": [
    "To improve the performance, we applied Principal Component Analysis (PCA) instead of predicting from pixels. This helps capturing the high dimensional structure of the images. We used the corresponding 1000 PCs."
   ]
  },
  {
   "cell_type": "code",
   "execution_count": null,
   "id": "e914a0b1",
   "metadata": {},
   "outputs": [
    {
     "name": "stdout",
     "output_type": "stream",
     "text": [
      "Linear regression score on training data:  0.4664270281791687\n",
      "Ridge regression score on training data:  0.46642693877220154\n",
      "Ridge (high reg.) regression score on training data:  0.46642249822616577\n",
      "Linear regression score on validation data:  -0.08039271831512451\n",
      "Ridge regression score on validation data:  -0.08037959039211273\n",
      "Ridge (high reg.) regression score on validation data:  -0.07916062325239182\n"
     ]
    }
   ],
   "source": [
    "pca = PCA(n_components=1000)\n",
    "stim_train_pca = pca.fit_transform(stim_train)\n",
    "stim_val_pca = pca.transform(stim_val)\n",
    "\n",
    "linreg = LinearRegression()\n",
    "ridge = Ridge(alpha=1.0)\n",
    "ridge_highreg = Ridge(alpha=100.0)\n",
    "\n",
    "linreg.fit(stim_train_pca, spikes_train)\n",
    "ridge.fit(stim_train_pca, spikes_train)\n",
    "ridge_highreg.fit(stim_train_pca, spikes_train)\n",
    "\n",
    "linreg_score_train = linreg.score(stim_train_pca, spikes_train)\n",
    "ridge_score_train = ridge.score(stim_train_pca, spikes_train)\n",
    "ridge_highreg_score_train = ridge_highreg.score(stim_train_pca, spikes_train)\n",
    "\n",
    "print('Linear regression score on training data: ', linreg_score_train)\n",
    "print('Ridge regression score on training data: ', ridge_score_train)\n",
    "print('Ridge (high reg.) regression score on training data: ', ridge_highreg_score_train)\n",
    "\n",
    "linreg_score_val = linreg.score(stim_val_pca, spikes_val)\n",
    "ridge_score_val = ridge.score(stim_val_pca, spikes_val)\n",
    "ridge_highreg_score_val = ridge_highreg.score(stim_val_pca, spikes_val)\n",
    "\n",
    "print('Linear regression score on validation data: ', linreg_score_val)\n",
    "print('Ridge regression score on validation data: ', ridge_score_val)\n",
    "print('Ridge (high reg.) regression score on validation data: ', ridge_highreg_score_val)"
   ]
  },
  {
   "cell_type": "markdown",
   "id": "159839a1",
   "metadata": {},
   "source": [
    "To improve the predictions, we then use a 5-fold cross-validation to find the best parameters for ridge regression between 20 different alpha values. "
   ]
  },
  {
   "cell_type": "code",
   "execution_count": null,
   "id": "2b60a72d",
   "metadata": {},
   "outputs": [
    {
     "name": "stdout",
     "output_type": "stream",
     "text": [
      "Best alpha value: 615848.2110660254\n",
      "Best Ridge Regression score on training set: 0.16825632750988007\n",
      "Best Ridge Regression score on validation set: 0.08738022297620773\n"
     ]
    }
   ],
   "source": [
    "alphas = np.logspace(2, 10, 20)\n",
    "ridge = Ridge()\n",
    "\n",
    "cv = StratifiedGroupKFold(n_splits=5, shuffle=True, random_state=1)\n",
    "splits = list(cv.split(stim_train, objects_train, groups=objects_train))\n",
    "grid_search = GridSearchCV(ridge, param_grid={'alpha': alphas}, cv=splits, n_jobs=-1)\n",
    "grid_search.fit(stim_train, spikes_train)\n",
    "\n",
    "best_alpha = grid_search.best_params_['alpha']\n",
    "print(\"Best alpha value:\", best_alpha)\n",
    "\n",
    "best_ridge = Ridge(alpha=best_alpha)\n",
    "best_ridge.fit(stim_train, spikes_train)\n",
    "ridge_score_train = best_ridge.score(stim_train, spikes_train)\n",
    "ridge_score_val = best_ridge.score(stim_val, spikes_val)\n",
    "\n",
    "print(\"Best Ridge Regression score on training set:\", ridge_score_train)\n",
    "print(\"Best Ridge Regression score on validation set:\", ridge_score_val)"
   ]
  },
  {
   "cell_type": "markdown",
   "id": "f8d3d8fe",
   "metadata": {},
   "source": [
    "## Part 2: Predict the neural activity with the task-driven modeling approach"
   ]
  },
  {
   "cell_type": "markdown",
   "id": "53816a38",
   "metadata": {},
   "source": [
    "One way to improve the predictions is too use the linear regression models we implemented on the activations of each layer of a network like ResNet50. In this part, we use task-driven modeling to predict neural activity. This involves training the network to perform a relevant behavioral task in order to better align its predictions with the brain."
   ]
  },
  {
   "cell_type": "markdown",
   "id": "fe2c0db3",
   "metadata": {},
   "source": [
    "#### 2.1: With stimuli as input, we get activations from the model and we save only the 1000 first PCs for each layer"
   ]
  },
  {
   "cell_type": "code",
   "execution_count": 13,
   "id": "530cb6b9",
   "metadata": {},
   "outputs": [
    {
     "name": "stderr",
     "output_type": "stream",
     "text": [
      "/opt/anaconda3/envs/nx-414/lib/python3.10/site-packages/torchvision/models/_utils.py:208: UserWarning: The parameter 'pretrained' is deprecated since 0.13 and may be removed in the future, please use 'weights' instead.\n",
      "  warnings.warn(\n",
      "/opt/anaconda3/envs/nx-414/lib/python3.10/site-packages/torchvision/models/_utils.py:223: UserWarning: Arguments other than a weight enum or `None` for 'weights' are deprecated since 0.13 and may be removed in the future. The current behavior is equivalent to passing `weights=ResNet50_Weights.IMAGENET1K_V1`. You can also use `weights=ResNet50_Weights.DEFAULT` to get the most up-to-date weights.\n",
      "  warnings.warn(msg)\n"
     ]
    },
    {
     "name": "stdout",
     "output_type": "stream",
     "text": [
      "Layer: conv1\n",
      "Activations shape: (2592, 802816)\n",
      "Principal components shape: (2592, 1000)\n",
      "Layer: layer1\n",
      "Activations shape: (2592, 802816)\n",
      "Principal components shape: (2592, 1000)\n",
      "Layer: layer2\n",
      "Activations shape: (2592, 401408)\n",
      "Principal components shape: (2592, 1000)\n",
      "Layer: layer3\n",
      "Activations shape: (2592, 200704)\n",
      "Principal components shape: (2592, 1000)\n",
      "Layer: layer4\n",
      "Activations shape: (2592, 100352)\n",
      "Principal components shape: (2592, 1000)\n",
      "Layer: avgpool\n",
      "Activations shape: (2592, 2048)\n",
      "Principal components shape: (2592, 1000)\n"
     ]
    }
   ],
   "source": [
    "pretrained_resnet = resnet50(pretrained=True)\n",
    "pretrained_resnet.eval()\n",
    "\n",
    "layers = ['conv1', 'layer1', 'layer2', 'layer3', 'layer4', 'avgpool']\n",
    "\n",
    "PCs = {'pretrained': dict(), 'untrained': dict()}\n",
    "\n",
    "def get_PCs_hook(module, input, output, layer_name, model):\n",
    "    print('Layer:', layer_name)\n",
    "    activations = output.detach().cpu().numpy().reshape(output.shape[0], -1)\n",
    "    print('Activations shape:', activations.shape)\n",
    "    pca = PCA(n_components=1000)\n",
    "    pca_features = pca.fit_transform(activations)\n",
    "    print('Principal components shape:', pca_features.shape)\n",
    "    PCs[model][layer_name] = pca_features\n",
    "\n",
    "for name, layer in pretrained_resnet.named_children():\n",
    "    if name in layers:\n",
    "        layer.register_forward_hook(lambda m, i, o, name=name: get_PCs_hook(m, i, o, name, 'pretrained'))\n",
    "\n",
    "imgs = stimulus_train\n",
    "imgs = torch.from_numpy(imgs)\n",
    "with torch.no_grad():\n",
    "    pretrained_resnet(imgs)"
   ]
  },
  {
   "cell_type": "markdown",
   "id": "c2192a50",
   "metadata": {},
   "source": [
    "#### 2.2: We use PCs to predict neural activity using linear regression"
   ]
  },
  {
   "cell_type": "code",
   "execution_count": 32,
   "id": "f3932ffd",
   "metadata": {},
   "outputs": [],
   "source": [
    "def get_activity_by_layer(layer, model):\n",
    "    pcs = PCs[model][layer]\n",
    "    linreg = LinearRegression()\n",
    "\n",
    "    linreg.fit(pcs, spikes_train)\n",
    "\n",
    "    # Evaluate the models on the training data (R^2 score), if too high can indicate overfitting\n",
    "    linreg_score_train = linreg.score(pcs, spikes_train)\n",
    "    print(\"For\", layer, \"of\", model, \"model - linear regression score on training data: \", linreg_score_train)\n",
    "\n",
    "    linreg_pred_activity = linreg.predict(pcs)\n",
    "    return linreg_pred_activity"
   ]
  },
  {
   "cell_type": "markdown",
   "id": "fe67b5b7",
   "metadata": {},
   "source": [
    "#### 2.3: We compute and plot the goodness of fit and the explained variance per layer"
   ]
  },
  {
   "cell_type": "code",
   "execution_count": 33,
   "id": "d7e4ea3f",
   "metadata": {},
   "outputs": [
    {
     "name": "stdout",
     "output_type": "stream",
     "text": [
      "For conv1 of pretrained model - linear regression score on training data:  0.46412768959999084\n",
      "For layer1 of pretrained model - linear regression score on training data:  0.6059292554855347\n",
      "For layer2 of pretrained model - linear regression score on training data:  0.6387455463409424\n",
      "For layer3 of pretrained model - linear regression score on training data:  0.6879435777664185\n",
      "For layer4 of pretrained model - linear regression score on training data:  0.665534257888794\n",
      "For avgpool of pretrained model - linear regression score on training data:  0.6303601861000061\n"
     ]
    }
   ],
   "source": [
    "for layer in layers:\n",
    "    pred_activity = get_activity_by_layer(layer, 'pretrained')\n",
    "    correlations = []\n",
    "    explained_variances = []\n",
    "\n",
    "    for i in range(spikes_train.shape[1]):\n",
    "        # Correlation\n",
    "        corr, _ = pearsonr(pred_activity[:, i], spikes_train[:, i])\n",
    "        correlations.append(corr)\n",
    "        \n",
    "        # Explained variance\n",
    "        ev = explained_variance_score(pred_activity[:, i], spikes_train[:, i])\n",
    "        explained_variances.append(ev)\n",
    "\n",
    "    # TODO: plot de Sarah\n",
    "    # # Plot distribution of explained variance\n",
    "    # plt.hist(explained_variances, bins=20, edgecolor='k', alpha=0.7)\n",
    "    # plt.xlabel('Explained variance')\n",
    "    # plt.ylabel('# neurons')\n",
    "    # plt.title('Distribution of explained variance across neurons for layer {}'.format(layer))\n",
    "    # plt.show()"
   ]
  },
  {
   "cell_type": "markdown",
   "id": "79576a7e",
   "metadata": {},
   "source": [
    "#### 2.4: Finally, we comparing the previous results with using an untrained network"
   ]
  },
  {
   "cell_type": "code",
   "execution_count": 23,
   "id": "d11bed0a",
   "metadata": {},
   "outputs": [
    {
     "name": "stderr",
     "output_type": "stream",
     "text": [
      "/opt/anaconda3/envs/nx-414/lib/python3.10/site-packages/torchvision/models/_utils.py:208: UserWarning: The parameter 'pretrained' is deprecated since 0.13 and may be removed in the future, please use 'weights' instead.\n",
      "  warnings.warn(\n",
      "/opt/anaconda3/envs/nx-414/lib/python3.10/site-packages/torchvision/models/_utils.py:223: UserWarning: Arguments other than a weight enum or `None` for 'weights' are deprecated since 0.13 and may be removed in the future. The current behavior is equivalent to passing `weights=None`.\n",
      "  warnings.warn(msg)\n"
     ]
    },
    {
     "name": "stdout",
     "output_type": "stream",
     "text": [
      "Layer: conv1\n",
      "Activations shape: (2592, 802816)\n",
      "Principal components shape: (2592, 1000)\n",
      "Layer: layer1\n",
      "Activations shape: (2592, 802816)\n",
      "Principal components shape: (2592, 1000)\n",
      "Layer: layer2\n",
      "Activations shape: (2592, 401408)\n",
      "Principal components shape: (2592, 1000)\n",
      "Layer: layer3\n",
      "Activations shape: (2592, 200704)\n",
      "Principal components shape: (2592, 1000)\n",
      "Layer: layer4\n",
      "Activations shape: (2592, 100352)\n",
      "Principal components shape: (2592, 1000)\n",
      "Layer: avgpool\n",
      "Activations shape: (2592, 2048)\n",
      "Principal components shape: (2592, 1000)\n",
      "For conv1 of untrained model:\n",
      "Linear regression score on training data:  0.46235620975494385\n",
      "Ridge regression score on training data:  0.462356299161911\n",
      "Ridge regression score with high regularization on training data:  0.46232154965400696\n",
      "\n"
     ]
    },
    {
     "data": {
      "image/png": "[encoded data removed]",
      "text/plain": [
       "<Figure size 640x480 with 1 Axes>"
      ]
     },
     "metadata": {},
     "output_type": "display_data"
    },
    {
     "name": "stdout",
     "output_type": "stream",
     "text": [
      "For layer1 of untrained model:\n",
      "Linear regression score on training data:  0.5580912828445435\n",
      "Ridge regression score on training data:  0.5580912828445435\n",
      "Ridge regression score with high regularization on training data:  0.5580576658248901\n",
      "\n"
     ]
    },
    {
     "data": {
      "image/png": "[encoded data removed]",
      "text/plain": [
       "<Figure size 640x480 with 1 Axes>"
      ]
     },
     "metadata": {},
     "output_type": "display_data"
    },
    {
     "name": "stdout",
     "output_type": "stream",
     "text": [
      "For layer2 of untrained model:\n",
      "Linear regression score on training data:  0.5583605766296387\n",
      "Ridge regression score on training data:  0.5583605766296387\n",
      "Ridge regression score with high regularization on training data:  0.5583564043045044\n",
      "\n"
     ]
    },
    {
     "data": {
      "image/png": "[encoded data removed]",
      "text/plain": [
       "<Figure size 640x480 with 1 Axes>"
      ]
     },
     "metadata": {},
     "output_type": "display_data"
    },
    {
     "name": "stdout",
     "output_type": "stream",
     "text": [
      "For layer3 of untrained model:\n",
      "Linear regression score on training data:  0.5531697869300842\n",
      "Ridge regression score on training data:  0.5531697273254395\n",
      "Ridge regression score with high regularization on training data:  0.5531697869300842\n",
      "\n"
     ]
    },
    {
     "data": {
      "image/png": "[encoded data removed]",
      "text/plain": [
       "<Figure size 640x480 with 1 Axes>"
      ]
     },
     "metadata": {},
     "output_type": "display_data"
    },
    {
     "name": "stdout",
     "output_type": "stream",
     "text": [
      "For layer4 of untrained model:\n",
      "Linear regression score on training data:  0.5419514179229736\n",
      "Ridge regression score on training data:  0.5419512987136841\n",
      "Ridge regression score with high regularization on training data:  0.5419514179229736\n",
      "\n"
     ]
    },
    {
     "data": {
      "image/png": "[encoded data removed]",
      "text/plain": [
       "<Figure size 640x480 with 1 Axes>"
      ]
     },
     "metadata": {},
     "output_type": "display_data"
    },
    {
     "name": "stdout",
     "output_type": "stream",
     "text": [
      "For avgpool of untrained model:\n",
      "Linear regression score on training data:  0.5240779519081116\n",
      "Ridge regression score on training data:  0.5240086317062378\n",
      "Ridge regression score with high regularization on training data:  0.4448855221271515\n",
      "\n"
     ]
    },
    {
     "data": {
      "image/png": "[encoded data removed]",
      "text/plain": [
       "<Figure size 640x480 with 1 Axes>"
      ]
     },
     "metadata": {},
     "output_type": "display_data"
    }
   ],
   "source": [
    "untrained_resnet = resnet50(pretrained=False)\n",
    "untrained_resnet.eval()\n",
    "\n",
    "for name, layer in untrained_resnet.named_children():\n",
    "    if name in layers:\n",
    "        layer.register_forward_hook(lambda m, i, o, name=name: get_PCs_hook(m, i, o, name, 'untrained'))\n",
    "\n",
    "imgs = stimulus_train\n",
    "imgs = torch.from_numpy(imgs)\n",
    "with torch.no_grad():\n",
    "    untrained_resnet(imgs)\n",
    "\n",
    "for layer in layers:\n",
    "    pred_activity = get_activity_by_layer(layer, 'untrained')\n",
    "    correlations = []\n",
    "    explained_variances = []\n",
    "\n",
    "    for i in range(spikes_train.shape[1]):\n",
    "        # Correlation\n",
    "        corr, _ = pearsonr(pred_activity[:, i], spikes_train[:, i])\n",
    "        correlations.append(corr)\n",
    "        \n",
    "        # Explained variance\n",
    "        ev = explained_variance_score(pred_activity[:, i], spikes_train[:, i])\n",
    "        explained_variances.append(ev)\n",
    "\n",
    "    # Plot distribution of explained variance\n",
    "    plt.hist(explained_variances, bins=20, edgecolor='k', alpha=0.7)\n",
    "    plt.xlabel('Explained variance')\n",
    "    plt.ylabel('# neurons')\n",
    "    plt.title('Distribution of explained variance across neurons for layer {}'.format(layer))\n",
    "    plt.show()"
   ]
  },
  {
   "cell_type": "markdown",
   "id": "3fb0531e",
   "metadata": {},
   "source": [
    "## Part 3: Predict the neural activity with the data-driven modeling approach"
   ]
  },
  {
   "cell_type": "code",
   "execution_count": 34,
   "id": "1f0e835b",
   "metadata": {},
   "outputs": [
    {
     "name": "stdout",
     "output_type": "stream",
     "text": [
      "Using CPU\n"
     ]
    }
   ],
   "source": [
    "# Set random seed for reproducibility\n",
    "torch.manual_seed(0)\n",
    "np.random.seed(0)\n",
    "\n",
    "n_out = 168\n",
    "batch_size = 16\n",
    "device = 'cuda:0' if torch.cuda.is_available() else 'cpu'\n",
    "if not 'cuda' in device:\n",
    "    print('Using CPU')\n",
    "\n",
    "train_dataset = TensorDataset(\n",
    "    torch.from_numpy(stimulus_train).float(),\n",
    "    torch.from_numpy(spikes_train).float()\n",
    ")\n",
    "\n",
    "val_dataset = TensorDataset(\n",
    "    torch.from_numpy(stimulus_val).float(),\n",
    "    torch.from_numpy(spikes_val).float()\n",
    ")\n",
    "\n",
    "trainloader = DataLoader(train_dataset, batch_size=batch_size, shuffle=True)\n",
    "valloader = DataLoader(val_dataset, batch_size=batch_size, shuffle=False)\n",
    "\n",
    "def create_setup(optim, use_batch_norm=True):\n",
    "    img_size = stimulus_train.shape[2]\n",
    "    \n",
    "    layers = [\n",
    "        nn.Conv2d(3, 64, kernel_size=3, stride=1, padding=1),\n",
    "        nn.ReLU(),\n",
    "        nn.MaxPool2d(kernel_size=2, stride=2),\n",
    "        nn.Conv2d(64, 128, kernel_size=3, stride=1, padding=1),\n",
    "        nn.ReLU(),\n",
    "        nn.MaxPool2d(kernel_size=2, stride=2),\n",
    "        nn.Flatten(),\n",
    "        nn.Dropout(0.5),\n",
    "        nn.Linear(128 * (img_size // 4) * (img_size // 4), n_out)\n",
    "    ]\n",
    "    if use_batch_norm:\n",
    "        layers.insert(2, nn.BatchNorm2d(64))\n",
    "        layers.insert(6, nn.BatchNorm2d(128))\n",
    "\n",
    "    model = nn.Sequential(*layers)\n",
    "    model = model.to(device)\n",
    "    print(model)\n",
    "    optimizer = torch.optim.AdamW(model.parameters(), lr=1e-3, weight_decay=1e-4) if optim == 'adamw' \\\n",
    "        else torch.optim.SGD(model.parameters(), lr=1e-3)\n",
    "    criterion = nn.MSELoss()\n",
    "    return model, optimizer, criterion\n",
    "\n",
    "def do_train(model, dataloader, optimizer, criterion, epochs):\n",
    "    model.train()\n",
    "    for epoch in range(epochs):\n",
    "        loss = 0.0\n",
    "        mae = 0.0\n",
    "        for data, targets in tqdm(dataloader, desc=f'Training - epoch {epoch+1}'):\n",
    "            data, targets = data.to(device), targets.to(device)\n",
    "            optimizer.zero_grad()\n",
    "            out = model(data)\n",
    "            loss = criterion(out, targets)\n",
    "            loss.backward()\n",
    "            # Gradient clipping to prevent exploding gradients\n",
    "            torch.nn.utils.clip_grad_norm_(model.parameters(), max_norm=1.0)\n",
    "            optimizer.step()\n",
    "            \n",
    "            loss += loss.item()\n",
    "            mae += torch.mean(torch.abs(out - targets)).item()\n",
    "\n",
    "        loss /= len(dataloader)\n",
    "        mae /= len(dataloader)\n",
    "        print('Epoch [{}/{}] MSE: {:.4f}, MAE: {:.2f}'.format(epoch+1, epochs, loss, mae))\n",
    "    \n",
    "def do_test(model, dataloader, criterion):\n",
    "    model.eval()\n",
    "    loss = 0.0\n",
    "    mae = 0.0\n",
    "    with torch.no_grad():\n",
    "        for data, targets in tqdm(dataloader, desc=f'Testing'):\n",
    "            data, targets = data.to(device), targets.to(device)\n",
    "            out = model(data)\n",
    "            loss = criterion(out, targets)\n",
    "\n",
    "            loss += loss.item()\n",
    "            mae += torch.mean(torch.abs(out - targets)).item()\n",
    "\n",
    "        loss /= len(dataloader)\n",
    "        mae /= len(dataloader)\n",
    "\n",
    "    return loss, mae"
   ]
  },
  {
   "cell_type": "code",
   "execution_count": null,
   "id": "01c04c68",
   "metadata": {},
   "outputs": [
    {
     "name": "stdout",
     "output_type": "stream",
     "text": [
      "Optimizer: adamw, Batch Norm: True\n",
      "Sequential(\n",
      "  (0): Conv2d(3, 64, kernel_size=(3, 3), stride=(1, 1), padding=(1, 1))\n",
      "  (1): ReLU()\n",
      "  (2): BatchNorm2d(64, eps=1e-05, momentum=0.1, affine=True, track_running_stats=True)\n",
      "  (3): MaxPool2d(kernel_size=2, stride=2, padding=0, dilation=1, ceil_mode=False)\n",
      "  (4): Conv2d(64, 128, kernel_size=(3, 3), stride=(1, 1), padding=(1, 1))\n",
      "  (5): ReLU()\n",
      "  (6): BatchNorm2d(128, eps=1e-05, momentum=0.1, affine=True, track_running_stats=True)\n",
      "  (7): MaxPool2d(kernel_size=2, stride=2, padding=0, dilation=1, ceil_mode=False)\n",
      "  (8): Flatten(start_dim=1, end_dim=-1)\n",
      "  (9): Dropout(p=0.5, inplace=False)\n",
      "  (10): Linear(in_features=401408, out_features=168, bias=True)\n",
      ")\n"
     ]
    },
    {
     "name": "stderr",
     "output_type": "stream",
     "text": [
      "Training - epoch 1: 100%|██████████| 162/162 [01:47<00:00,  1.51it/s]\n"
     ]
    },
    {
     "name": "stdout",
     "output_type": "stream",
     "text": [
      "Epoch [1/10] MSE: 13.6076, MAE: 22.65\n"
     ]
    },
    {
     "name": "stderr",
     "output_type": "stream",
     "text": [
      "Training - epoch 2: 100%|██████████| 162/162 [01:47<00:00,  1.51it/s]\n"
     ]
    },
    {
     "name": "stdout",
     "output_type": "stream",
     "text": [
      "Epoch [2/10] MSE: 8.3811, MAE: 19.51\n"
     ]
    },
    {
     "name": "stderr",
     "output_type": "stream",
     "text": [
      "Training - epoch 3: 100%|██████████| 162/162 [01:46<00:00,  1.53it/s]\n"
     ]
    },
    {
     "name": "stdout",
     "output_type": "stream",
     "text": [
      "Epoch [3/10] MSE: 3.5580, MAE: 15.40\n"
     ]
    },
    {
     "name": "stderr",
     "output_type": "stream",
     "text": [
      "Training - epoch 4: 100%|██████████| 162/162 [01:44<00:00,  1.55it/s]\n"
     ]
    },
    {
     "name": "stdout",
     "output_type": "stream",
     "text": [
      "Epoch [4/10] MSE: 1.2388, MAE: 10.73\n"
     ]
    },
    {
     "name": "stderr",
     "output_type": "stream",
     "text": [
      "Training - epoch 5: 100%|██████████| 162/162 [01:46<00:00,  1.52it/s]\n"
     ]
    },
    {
     "name": "stdout",
     "output_type": "stream",
     "text": [
      "Epoch [5/10] MSE: 0.2242, MAE: 5.97\n"
     ]
    },
    {
     "name": "stderr",
     "output_type": "stream",
     "text": [
      "Training - epoch 6: 100%|██████████| 162/162 [01:46<00:00,  1.52it/s]\n"
     ]
    },
    {
     "name": "stdout",
     "output_type": "stream",
     "text": [
      "Epoch [6/10] MSE: 0.0021, MAE: 1.36\n"
     ]
    },
    {
     "name": "stderr",
     "output_type": "stream",
     "text": [
      "Training - epoch 7: 100%|██████████| 162/162 [01:47<00:00,  1.50it/s]\n"
     ]
    },
    {
     "name": "stdout",
     "output_type": "stream",
     "text": [
      "Epoch [7/10] MSE: 0.0015, MAE: 0.26\n"
     ]
    },
    {
     "name": "stderr",
     "output_type": "stream",
     "text": [
      "Training - epoch 8: 100%|██████████| 162/162 [01:44<00:00,  1.54it/s]\n"
     ]
    },
    {
     "name": "stdout",
     "output_type": "stream",
     "text": [
      "Epoch [8/10] MSE: 0.0011, MAE: 0.25\n"
     ]
    },
    {
     "name": "stderr",
     "output_type": "stream",
     "text": [
      "Training - epoch 9: 100%|██████████| 162/162 [01:44<00:00,  1.55it/s]\n"
     ]
    },
    {
     "name": "stdout",
     "output_type": "stream",
     "text": [
      "Epoch [9/10] MSE: 0.0012, MAE: 0.24\n"
     ]
    },
    {
     "name": "stderr",
     "output_type": "stream",
     "text": [
      "Training - epoch 10: 100%|██████████| 162/162 [01:42<00:00,  1.59it/s]\n"
     ]
    },
    {
     "name": "stdout",
     "output_type": "stream",
     "text": [
      "Epoch [10/10] MSE: 0.0012, MAE: 0.23\n"
     ]
    },
    {
     "name": "stderr",
     "output_type": "stream",
     "text": [
      "Testing: 100%|██████████| 18/18 [00:03<00:00,  4.67it/s]\n"
     ]
    },
    {
     "name": "stdout",
     "output_type": "stream",
     "text": [
      "Final MSE: 0.0103, MAE: 0.24\n",
      "----------------------------------------\n",
      "Optimizer: adamw, Batch Norm: False\n",
      "Sequential(\n",
      "  (0): Conv2d(3, 64, kernel_size=(3, 3), stride=(1, 1), padding=(1, 1))\n",
      "  (1): ReLU()\n",
      "  (2): MaxPool2d(kernel_size=2, stride=2, padding=0, dilation=1, ceil_mode=False)\n",
      "  (3): Conv2d(64, 128, kernel_size=(3, 3), stride=(1, 1), padding=(1, 1))\n",
      "  (4): ReLU()\n",
      "  (5): MaxPool2d(kernel_size=2, stride=2, padding=0, dilation=1, ceil_mode=False)\n",
      "  (6): Flatten(start_dim=1, end_dim=-1)\n",
      "  (7): Dropout(p=0.5, inplace=False)\n",
      "  (8): Linear(in_features=401408, out_features=168, bias=True)\n",
      ")\n"
     ]
    },
    {
     "name": "stderr",
     "output_type": "stream",
     "text": [
      "Training - epoch 1: 100%|██████████| 162/162 [01:33<00:00,  1.73it/s]\n"
     ]
    },
    {
     "name": "stdout",
     "output_type": "stream",
     "text": [
      "Epoch [1/10] MSE: 0.0018, MAE: 0.40\n"
     ]
    },
    {
     "name": "stderr",
     "output_type": "stream",
     "text": [
      "Training - epoch 2: 100%|██████████| 162/162 [01:37<00:00,  1.67it/s]\n"
     ]
    },
    {
     "name": "stdout",
     "output_type": "stream",
     "text": [
      "Epoch [2/10] MSE: 0.0016, MAE: 0.27\n"
     ]
    },
    {
     "name": "stderr",
     "output_type": "stream",
     "text": [
      "Training - epoch 3: 100%|██████████| 162/162 [01:37<00:00,  1.65it/s]\n"
     ]
    },
    {
     "name": "stdout",
     "output_type": "stream",
     "text": [
      "Epoch [3/10] MSE: 0.0018, MAE: 0.27\n"
     ]
    },
    {
     "name": "stderr",
     "output_type": "stream",
     "text": [
      "Training - epoch 4: 100%|██████████| 162/162 [01:37<00:00,  1.66it/s]\n"
     ]
    },
    {
     "name": "stdout",
     "output_type": "stream",
     "text": [
      "Epoch [4/10] MSE: 0.0016, MAE: 0.27\n"
     ]
    },
    {
     "name": "stderr",
     "output_type": "stream",
     "text": [
      "Training - epoch 5: 100%|██████████| 162/162 [01:39<00:00,  1.63it/s]\n"
     ]
    },
    {
     "name": "stdout",
     "output_type": "stream",
     "text": [
      "Epoch [5/10] MSE: 0.0015, MAE: 0.27\n"
     ]
    },
    {
     "name": "stderr",
     "output_type": "stream",
     "text": [
      "Training - epoch 6: 100%|██████████| 162/162 [01:37<00:00,  1.66it/s]\n"
     ]
    },
    {
     "name": "stdout",
     "output_type": "stream",
     "text": [
      "Epoch [6/10] MSE: 0.0017, MAE: 0.27\n"
     ]
    },
    {
     "name": "stderr",
     "output_type": "stream",
     "text": [
      "Training - epoch 7: 100%|██████████| 162/162 [01:37<00:00,  1.66it/s]\n"
     ]
    },
    {
     "name": "stdout",
     "output_type": "stream",
     "text": [
      "Epoch [7/10] MSE: 0.0019, MAE: 0.27\n"
     ]
    },
    {
     "name": "stderr",
     "output_type": "stream",
     "text": [
      "Training - epoch 8: 100%|██████████| 162/162 [01:35<00:00,  1.70it/s]\n"
     ]
    },
    {
     "name": "stdout",
     "output_type": "stream",
     "text": [
      "Epoch [8/10] MSE: 0.0015, MAE: 0.27\n"
     ]
    },
    {
     "name": "stderr",
     "output_type": "stream",
     "text": [
      "Training - epoch 9: 100%|██████████| 162/162 [01:37<00:00,  1.66it/s]\n"
     ]
    },
    {
     "name": "stdout",
     "output_type": "stream",
     "text": [
      "Epoch [9/10] MSE: 0.0016, MAE: 0.27\n"
     ]
    },
    {
     "name": "stderr",
     "output_type": "stream",
     "text": [
      "Training - epoch 10: 100%|██████████| 162/162 [01:35<00:00,  1.69it/s]\n"
     ]
    },
    {
     "name": "stdout",
     "output_type": "stream",
     "text": [
      "Epoch [10/10] MSE: 0.0019, MAE: 0.27\n"
     ]
    },
    {
     "name": "stderr",
     "output_type": "stream",
     "text": [
      "Testing: 100%|██████████| 18/18 [00:03<00:00,  5.12it/s]\n"
     ]
    },
    {
     "name": "stdout",
     "output_type": "stream",
     "text": [
      "Final MSE: 0.0146, MAE: 0.28\n",
      "----------------------------------------\n",
      "Optimizer: sgd, Batch Norm: True\n",
      "Sequential(\n",
      "  (0): Conv2d(3, 64, kernel_size=(3, 3), stride=(1, 1), padding=(1, 1))\n",
      "  (1): ReLU()\n",
      "  (2): BatchNorm2d(64, eps=1e-05, momentum=0.1, affine=True, track_running_stats=True)\n",
      "  (3): MaxPool2d(kernel_size=2, stride=2, padding=0, dilation=1, ceil_mode=False)\n",
      "  (4): Conv2d(64, 128, kernel_size=(3, 3), stride=(1, 1), padding=(1, 1))\n",
      "  (5): ReLU()\n",
      "  (6): BatchNorm2d(128, eps=1e-05, momentum=0.1, affine=True, track_running_stats=True)\n",
      "  (7): MaxPool2d(kernel_size=2, stride=2, padding=0, dilation=1, ceil_mode=False)\n",
      "  (8): Flatten(start_dim=1, end_dim=-1)\n",
      "  (9): Dropout(p=0.5, inplace=False)\n",
      "  (10): Linear(in_features=401408, out_features=168, bias=True)\n",
      ")\n"
     ]
    },
    {
     "name": "stderr",
     "output_type": "stream",
     "text": [
      "Training - epoch 1: 100%|██████████| 162/162 [01:35<00:00,  1.70it/s]\n"
     ]
    },
    {
     "name": "stdout",
     "output_type": "stream",
     "text": [
      "Epoch [1/10] MSE: 0.0141, MAE: 0.84\n"
     ]
    },
    {
     "name": "stderr",
     "output_type": "stream",
     "text": [
      "Training - epoch 2: 100%|██████████| 162/162 [13:54<00:00,  5.15s/it]\n"
     ]
    },
    {
     "name": "stdout",
     "output_type": "stream",
     "text": [
      "Epoch [2/10] MSE: 0.0127, MAE: 0.81\n"
     ]
    },
    {
     "name": "stderr",
     "output_type": "stream",
     "text": [
      "Training - epoch 3: 100%|██████████| 162/162 [25:02<00:00,  9.27s/it]  \n"
     ]
    },
    {
     "name": "stdout",
     "output_type": "stream",
     "text": [
      "Epoch [3/10] MSE: 0.0126, MAE: 0.79\n"
     ]
    },
    {
     "name": "stderr",
     "output_type": "stream",
     "text": [
      "Training - epoch 4: 100%|██████████| 162/162 [01:37<00:00,  1.65it/s]\n"
     ]
    },
    {
     "name": "stdout",
     "output_type": "stream",
     "text": [
      "Epoch [4/10] MSE: 0.0127, MAE: 0.78\n"
     ]
    },
    {
     "name": "stderr",
     "output_type": "stream",
     "text": [
      "Training - epoch 5: 100%|██████████| 162/162 [01:38<00:00,  1.64it/s]\n"
     ]
    },
    {
     "name": "stdout",
     "output_type": "stream",
     "text": [
      "Epoch [5/10] MSE: 0.0120, MAE: 0.77\n"
     ]
    },
    {
     "name": "stderr",
     "output_type": "stream",
     "text": [
      "Training - epoch 6:  28%|██▊       | 45/162 [00:26<01:08,  1.70it/s]"
     ]
    }
   ],
   "source": [
    "for optim in ['adamw', 'sgd']:\n",
    "    for use_batch_norm in [True, False]:\n",
    "        print(f'Optimizer: {optim}, Batch Norm: {use_batch_norm}')\n",
    "        model, optimizer, criterion = create_setup(optim, use_batch_norm=use_batch_norm)\n",
    "        do_train(model, trainloader, optimizer, criterion, 10)\n",
    "        loss, acc = do_test(model, valloader, criterion)\n",
    "        print('Final MSE: {:.4f}, MAE: {:.2f}'.format(loss, acc))\n",
    "        print('--' * 20)"
   ]
  },
  {
   "cell_type": "markdown",
   "id": "61460487",
   "metadata": {},
   "source": [
    "## Part 4: Develop the most accurate model for predicting IT neural activity"
   ]
  },
  {
   "cell_type": "markdown",
   "id": "c21ee744",
   "metadata": {},
   "source": [
    "In this part, our goal is to find the best model for predicting neural activity. We explore both the data-driven and the task-driven approaches and tried the following pretrained models:\n",
    "- ResNet18\n",
    "- ResNet50\n",
    "- ResNeXt\n",
    "- Vision Transformer (ViT)\n",
    "- ConvNeXt\n",
    "- DinoV2\n",
    "\n",
    "These choices are inspired by the brain-score platform, where they show the highest correlation with the neural activity. The first four are more traditional models that have been widely used in the field of computer vision."
   ]
  },
  {
   "cell_type": "code",
   "execution_count": null,
   "id": "c32132a6",
   "metadata": {},
   "outputs": [],
   "source": [
    "MODEL_REGISTRY = Registry(\"MODEL\")\n",
    "MODEL_REGISTRY.__doc__ = \"\"\"\n",
    "Registry for models.\n",
    "\n",
    "The registered object will be called with `obj()`.\n",
    "The call should return a `nn.Module` object.\n",
    "\"\"\"\n",
    "\n",
    "def accepts_seed(cls):\n",
    "    init = cls.__init__\n",
    "    sig = inspect.signature(init)\n",
    "    return 'seed' in sig.parameters\n",
    "\n",
    "def make_model(name, seed):\n",
    "    \"\"\"\n",
    "    Builds the video model.\n",
    "    Args:\n",
    "        name (string): name of the model to build.\n",
    "    Returns:\n",
    "        model (nn.Module): the built model.\n",
    "    \"\"\"\n",
    "    model = MODEL_REGISTRY.get(name)\n",
    "    if accepts_seed(model):\n",
    "        model = model(seed)\n",
    "    else:\n",
    "        model = model()\n",
    "    \n",
    "    return model"
   ]
  },
  {
   "cell_type": "code",
   "execution_count": null,
   "id": "54d26942",
   "metadata": {},
   "outputs": [],
   "source": [
    "@MODEL_REGISTRY.register()\n",
    "class ConvNeXt(IModel):\n",
    "    def __init__(self):\n",
    "        super(ConvNeXt, self).__init__()\n",
    "        self.model = convnext_base(weights=ConvNeXt_Base_Weights.IMAGENET1K_V1)\n",
    "    \n",
    "    def get_layers(self, driven):\n",
    "        \"\"\"\n",
    "        Returns the layers on which to do the linear probing.\n",
    "        \"\"\"    \n",
    "        layer7 = self.model.get_submodule(\"features.7\")\n",
    "        classif = self.model.get_submodule(\"classifier\")\n",
    "        return [('layer7', layer7), ('classifier', classif)]"
   ]
  },
  {
   "cell_type": "code",
   "execution_count": null,
   "id": "222067d6",
   "metadata": {},
   "outputs": [],
   "source": [
    "@MODEL_REGISTRY.register()\n",
    "class DinoV2(IModel):\n",
    "    def __init__(self):\n",
    "        super(DinoV2, self).__init__()\n",
    "        self.model = torch.hub.load('facebookresearch/dinov2', 'dinov2_vitb14')\n",
    "    \n",
    "    def get_layers(self, driven):\n",
    "        \"\"\"\n",
    "        Returns the layers on which to do the linear probing.\n",
    "        \"\"\"\n",
    "        module_block11 = self.model.get_submodule(\"blocks.11\")\n",
    "        module_norm = self.model.get_submodule(\"norm\")\n",
    "        return [('block11', module_block11), ('norm', module_norm)]"
   ]
  },
  {
   "cell_type": "code",
   "execution_count": null,
   "id": "7b5ead6d",
   "metadata": {},
   "outputs": [],
   "source": [
    "@MODEL_REGISTRY.register()\n",
    "class ResNet18(IModel):\n",
    "    def __init__(self):\n",
    "        super(ResNet18, self).__init__()\n",
    "        self.model = resnet18(weights=ResNet18_Weights.IMAGENET1K_V1)"
   ]
  },
  {
   "cell_type": "code",
   "execution_count": null,
   "id": "15fb1894",
   "metadata": {},
   "outputs": [],
   "source": [
    "@MODEL_REGISTRY.register()\n",
    "class ResNet50(IModel):\n",
    "    def __init__(self):\n",
    "        super(ResNet50, self).__init__()\n",
    "        self.model = resnet50(weights=ResNet50_Weights.IMAGENET1K_V1)"
   ]
  },
  {
   "cell_type": "code",
   "execution_count": null,
   "id": "eca081e4",
   "metadata": {},
   "outputs": [],
   "source": [
    "@MODEL_REGISTRY.register()\n",
    "class ResNeXt(IModel):\n",
    "    def __init__(self):\n",
    "        super(ResNeXt, self).__init__()\n",
    "        self.model = resnext101_32x8d(weights=ResNeXt101_32X8D_Weights.IMAGENET1K_V1)"
   ]
  },
  {
   "cell_type": "code",
   "execution_count": null,
   "id": "e7303e8f",
   "metadata": {},
   "outputs": [],
   "source": [
    "@MODEL_REGISTRY.register()\n",
    "class ViT(IModel):\n",
    "    def __init__(self):\n",
    "        super(ViT, self).__init__()\n",
    "        self.model = vit_b_16(weights=ViT_B_16_Weights.IMAGENET1K_V1)"
   ]
  },
  {
   "cell_type": "markdown",
   "id": "590e712d",
   "metadata": {},
   "source": [
    "### ⚠️ **DISCLAIMER:** </br>\n",
    "This final part of the project was organised into separate python scripts. For the final submission we tried to merge everything on this notebook. </br>\n",
    "You do not need to run this code, we are just presenting our work. Go to the end of the notebook to load the best model."
   ]
  },
  {
   "cell_type": "markdown",
   "id": "e3cb6a7c",
   "metadata": {},
   "source": [
    "## Loading the best model"
   ]
  },
  {
   "cell_type": "markdown",
   "id": "c13c2a31",
   "metadata": {},
   "source": [
    "Our best $R^2$ score was obtained by finetuning in a data-driven way a pretrained ResNeXt model."
   ]
  },
  {
   "cell_type": "code",
   "execution_count": null,
   "id": "000ae660",
   "metadata": {},
   "outputs": [],
   "source": [
    "@MODEL_REGISTRY.register()\n",
    "class ResNeXt(IModel):\n",
    "    def __init__(self):\n",
    "        super(ResNeXt, self).__init__()\n",
    "        self.model = resnext101_32x8d(weights=ResNeXt101_32X8D_Weights.IMAGENET1K_V1)\n",
    "\n",
    "base_model = make_model('ResNeXt', 0)\n",
    "model = base_model.change_head('layer4', 168)"
   ]
  },
  {
   "cell_type": "markdown",
   "id": "45fe6df0",
   "metadata": {},
   "source": [
    "We can now load our saved weights:"
   ]
  },
  {
   "cell_type": "code",
   "execution_count": null,
   "id": "c18f1eb6",
   "metadata": {},
   "outputs": [],
   "source": [
    "weights = torch.load('best_model.pt')\n",
    "model.load_state_dict(weights)"
   ]
  },
  {
   "cell_type": "markdown",
   "id": "d87d377c",
   "metadata": {},
   "source": [
    "## Inference time!"
   ]
  },
  {
   "cell_type": "markdown",
   "id": "54540d1b",
   "metadata": {},
   "source": [
    "Let's try our model on the validation data and check the $R^2$ score we obtain."
   ]
  },
  {
   "cell_type": "code",
   "execution_count": null,
   "id": "aa25b258",
   "metadata": {},
   "outputs": [],
   "source": [
    "train_data, val_data = get_data()\n",
    "out = model(val_data[0])"
   ]
  }
 ],
 "metadata": {
  "kernelspec": {
   "display_name": "nx-414",
   "language": "python",
   "name": "python3"
  },
  "language_info": {
   "codemirror_mode": {
    "name": "ipython",
    "version": 3
   },
   "file_extension": ".py",
   "mimetype": "text/x-python",
   "name": "python",
   "nbconvert_exporter": "python",
   "pygments_lexer": "ipython3",
   "version": "3.10.13"
  }
 },
 "nbformat": 4,
 "nbformat_minor": 5
}

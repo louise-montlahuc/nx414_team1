{
 "cells": [
  {
   "cell_type": "markdown",
   "id": "7e0c8087",
   "metadata": {},
   "source": [
    "# NX-414 - Mini-project"
   ]
  },
  {
   "cell_type": "markdown",
   "id": "558f1b3a",
   "metadata": {},
   "source": [
    "Group members: Kolly Florian, Mikami Sarah, Montlahuc Louise\n",
    "\n",
    "## Project description\n",
    "The objectives of the project are:\n",
    "- Predict neural activity using linear regression from images and from neural network layers.\n",
    "- Quantify the goodness of the model\n",
    "- Compare the results across the network layers and between trained/random neural network\n",
    "- Predict the neural activity using a neural network in a data-driven approach\n",
    "- Develop the most accurate model for predicting IT neural activity\n",
    "\n",
    "Specifically, we use the data from the following [paper](https://www.jneurosci.org/content/jneuro/35/39/13402.full.pdf). The behavioral experiment consisted in showing to non-human primates some images while recording the neural activity with multielectrode arrays from the inferior temporal (IT) cortex. In the data we provided you, the neural activity and the images are already pre-processed and you will have available the images and the corresponding average firing rate (between 70 and 170 ms) per each neuron."
   ]
  },
  {
   "cell_type": "markdown",
   "id": "d33ee37e",
   "metadata": {},
   "source": [
    "## Imports"
   ]
  },
  {
   "cell_type": "code",
   "execution_count": 1,
   "id": "271a3c4b",
   "metadata": {},
   "outputs": [],
   "source": [
    "# ALL NECESSARY IMPORTS\n",
    "from abc import ABC\n",
    "import inspect\n",
    "import h5py\n",
    "import os\n",
    "import re\n",
    "import random\n",
    "import gdown\n",
    "from tqdm import tqdm\n",
    "import torch\n",
    "from torch import nn\n",
    "from torch.utils.data import DataLoader, TensorDataset, Dataset\n",
    "from torch.optim.lr_scheduler import CosineAnnealingLR, LambdaLR, SequentialLR\n",
    "import numpy as np\n",
    "import pandas as pd\n",
    "import seaborn as sns\n",
    "import matplotlib.pyplot as plt\n",
    "from sklearn.preprocessing import StandardScaler\n",
    "from sklearn.linear_model import LinearRegression, Ridge\n",
    "from sklearn.metrics import explained_variance_score, r2_score\n",
    "from scipy.stats import pearsonr\n",
    "from sklearn.decomposition import PCA\n",
    "from sklearn.model_selection import GridSearchCV, StratifiedGroupKFold\n",
    "from sklearn.calibration import LabelEncoder\n",
    "from sklearn.neural_network import MLPRegressor\n",
    "from fvcore.common.registry import Registry\n",
    "from torchvision.models import resnet50, resnext101_32x8d, convnext_base, resnet18, vit_b_16\n",
    "from torchvision.models import ResNet50_Weights, ResNeXt101_32X8D_Weights, ConvNeXt_Base_Weights, ResNet18_Weights, ViT_B_16_Weights"
   ]
  },
  {
   "cell_type": "markdown",
   "id": "5b6db4f1",
   "metadata": {},
   "source": [
    "## Models interface"
   ]
  },
  {
   "cell_type": "markdown",
   "id": "4feeadfc",
   "metadata": {},
   "source": [
    "For genericity and reusability, we define an interface for all models."
   ]
  },
  {
   "cell_type": "code",
   "execution_count": 2,
   "id": "43e13781",
   "metadata": {},
   "outputs": [],
   "source": [
    "# IModel INTERFACE\n",
    "class IModel(ABC, nn.Module):\n",
    "    \"\"\"\n",
    "    Abstract base class for a model.\n",
    "    This class defines the interface that all model classes must implement.\n",
    "    All models inheriting from this class should have a self.model attribute!\n",
    "    \"\"\"\n",
    "    def __init__(self):\n",
    "        super().__init__()\n",
    "        self.PCs = dict()\n",
    "        self.ACTs = dict()\n",
    "        self.PCA = dict()\n",
    "        self.pca_fitted = []\n",
    "\n",
    "    def forward(self, images):\n",
    "        return self.model(images)\n",
    "    \n",
    "    def get_layers(self, layer_name=None):\n",
    "        \"\"\"\n",
    "        Returns the layers on which to do the linear probing.\n",
    "        \"\"\"\n",
    "        layers = []\n",
    "        if not layer_name:\n",
    "            layers_name = [name for name, _ in self.model.named_children()]\n",
    "            for name in layers_name[-4:-1]:\n",
    "                module = self.model.get_submodule(name)\n",
    "                layers.append((name, module))\n",
    "        else:\n",
    "            module = self.model.get_submodule(layer_name)\n",
    "            layers.append((layer_name, module))\n",
    "        return layers\n",
    "        \n",
    "    def get_activations(self, hook_name):\n",
    "        \"\"\"\n",
    "        Returns the activations of the model.\n",
    "        The hook_name can be 'all' for all activations or 'pca' for 1000 principal components.\n",
    "        \"\"\"\n",
    "        if hook_name == 'all':\n",
    "            return self.ACTs\n",
    "        elif hook_name == 'pca':\n",
    "            return self.PCs\n",
    "        else:\n",
    "            raise ValueError(\"Invalid hook name. Use 'all' or 'pca'.\")\n",
    "        \n",
    "    def reset_activations(self):\n",
    "        \"\"\"\n",
    "        Resets the activations of the model.\n",
    "        \"\"\"\n",
    "        self.PCs = dict()\n",
    "        self.ACTs = dict()\n",
    "\n",
    "    def _get_PCs_hook(self, module, input, output, layer_name):\n",
    "        print('Layer:', layer_name)\n",
    "        activations = output.detach().cpu().numpy().reshape(output.shape[0], -1)\n",
    "        print('Activations shape:', activations.shape)\n",
    "        if activations.shape[1] > 1000:\n",
    "            if layer_name in self.pca_fitted:\n",
    "                pca_features = self.PCA[layer_name].transform(activations)\n",
    "                print('Principal components shape:', pca_features.shape)\n",
    "                self.PCs[layer_name] = pca_features\n",
    "            else:\n",
    "                pca = PCA(n_components=1000)\n",
    "                print(pca)\n",
    "                self.PCA[layer_name] = pca\n",
    "                pca_features = pca.fit_transform(activations)\n",
    "                self.pca_fitted.append(layer_name)\n",
    "                print('Principal components shape:', pca_features.shape)\n",
    "                self.PCs[layer_name] = pca_features\n",
    "        else:\n",
    "            self.PCs[layer_name] = activations\n",
    "            \n",
    "    def _get_activations_hook(self, module, input, output, layer_name):\n",
    "        activations = output.detach().cpu().numpy().reshape(output.shape[0], -1)\n",
    "        self.ACTs[layer_name] = activations\n",
    "    \n",
    "    def register_hook(self, hook_name, finetune, layer_name):\n",
    "        \"\"\"\n",
    "        Registers a hook to the model.\n",
    "        The hook can be 'all' for all activations or 'pca' for 1000 principal components.\n",
    "        \"\"\"\n",
    "        handles = []\n",
    "        layers = self.get_layers(layer_name) if finetune else self.get_layers()\n",
    "            \n",
    "        for name, layer in layers:\n",
    "            if hook_name == 'all':\n",
    "                handle = layer.register_forward_hook(lambda m, i, o, n=name: self._get_activations_hook(m, i, o, n))\n",
    "            elif hook_name == 'pca':\n",
    "                handle = layer.register_forward_hook(lambda m, i, o, n=name: self._get_PCs_hook(m, i, o, n))\n",
    "            handles.append(handle)\n",
    "        return handles\n",
    "    \n",
    "    def change_head(self, layer, num_classes):\n",
    "        \"\"\"\n",
    "        Sets a final head (classification or regression) after the indicated layer.\n",
    "        \"\"\"\n",
    "        return ModifiedModel(self.model, layer, num_classes)"
   ]
  },
  {
   "cell_type": "markdown",
   "id": "8e654f1f",
   "metadata": {},
   "source": [
    "For finetuning models, we create a class that extends our generic model interface ```IModel``` and contains both the original model alongside the modified model. As we are testing multiple models and multiple finetuning methods, our goal is to stay as generic as possible."
   ]
  },
  {
   "cell_type": "code",
   "execution_count": null,
   "id": "c0711176",
   "metadata": {},
   "outputs": [],
   "source": [
    "# ModifiedModel class\n",
    "class ModifiedModel(IModel):\n",
    "    def __init__(self, base_model, insert_after, num_classes):\n",
    "        super().__init__()\n",
    "        self.model = base_model\n",
    "        self.insert_after = insert_after\n",
    "        self.num_classes = num_classes\n",
    "\n",
    "        # Register hook on specified layer\n",
    "        self._register_hook()\n",
    "\n",
    "        # Run dummy forward to get shape of features\n",
    "        dummy_input = torch.randn(1, 3, 224, 224)\n",
    "        with torch.no_grad():\n",
    "            _ = self.model(dummy_input)\n",
    "            features = self.captured_features\n",
    "\n",
    "        # Process features according to type (ViT vs CNN)\n",
    "        if features.dim() == 4:  # CNN style: [B, C, H, W]\n",
    "            features = nn.AdaptiveAvgPool2d((16, 16))(features)\n",
    "            features = features.reshape(features.size(0), -1)\n",
    "        elif features.dim() == 3:  # ViT style: [B, N, D]\n",
    "            features = features[:, 0]  # Use only [CLS] token\n",
    "        else:\n",
    "            raise ValueError(\"Unknown feature shape from intercepted layer\")\n",
    "\n",
    "        in_features = features.shape[1]\n",
    "\n",
    "        # Define classifier head\n",
    "        self.fc = nn.Sequential(\n",
    "            nn.AdaptiveAvgPool2d((16, 16)),\n",
    "            nn.Flatten(),\n",
    "            nn.Linear(in_features, 1024),\n",
    "            nn.ReLU(),\n",
    "            nn.Dropout(0.3),\n",
    "            nn.Linear(1024, num_classes)\n",
    "        ) if features.dim() == 4 else  nn.Sequential(\n",
    "                nn.Linear(in_features, 1024),\n",
    "                nn.ReLU(),\n",
    "                nn.Dropout(0.3),\n",
    "                nn.Linear(1024, num_classes)\n",
    "            )\n",
    "        \n",
    "    def _register_hook(self):\n",
    "        def hook_fn(module, input, output):\n",
    "            self.captured_features = output\n",
    "\n",
    "        # Traverse and hook the desired layer\n",
    "        for name, module in self.model.named_modules():\n",
    "            if name == self.insert_after:\n",
    "                module.register_forward_hook(hook_fn)\n",
    "                self.hooked_layer = module\n",
    "                return\n",
    "        raise ValueError(f\"Layer '{self.insert_after}' not found in model.\")\n",
    "\n",
    "    def _forward_features(self, x):\n",
    "        for name, module in self.features.named_children():\n",
    "            if isinstance(module, nn.ModuleList):\n",
    "                for submodule in module:\n",
    "                    x = submodule(x)\n",
    "            else:\n",
    "                x = module(x)\n",
    "        return x\n",
    "\n",
    "    def forward(self, x):\n",
    "        _ = self.model(x)\n",
    "        features = self.captured_features\n",
    "\n",
    "        if features.dim() == 4:  # CNN\n",
    "            features = nn.AdaptiveAvgPool2d((16, 16))(features)\n",
    "            features = features.reshape(features.size(0), -1)\n",
    "        elif features.dim() == 3:  # ViT\n",
    "            features = features[:, 0]\n",
    "\n",
    "        return self.fc(features)\n",
    "\n",
    "    def get_layers(self, layer_name=None):\n",
    "        return [(self.insert_after, self.hooked_layer)]"
   ]
  },
  {
   "cell_type": "markdown",
   "id": "0485a44a",
   "metadata": {},
   "source": [
    "We then create a build function that takes a model name and a set of parameters, and returns the corresponding model."
   ]
  },
  {
   "cell_type": "code",
   "execution_count": 4,
   "id": "09dcfe92",
   "metadata": {},
   "outputs": [],
   "source": [
    "MODEL_REGISTRY = Registry(\"MODEL\")\n",
    "MODEL_REGISTRY.__doc__ = \"\"\"\n",
    "Registry for models.\n",
    "\n",
    "The registered object will be called with `obj()`.\n",
    "The call should return a `nn.Module` object.\n",
    "\"\"\"\n",
    "\n",
    "def accepts_seed(cls):\n",
    "    init = cls.__init__\n",
    "    sig = inspect.signature(init)\n",
    "    return 'seed' in sig.parameters\n",
    "\n",
    "def make_model(name, seed):\n",
    "    \"\"\"\n",
    "    Builds the video model.\n",
    "    Args:\n",
    "        name (string): name of the model to build.\n",
    "    Returns:\n",
    "        model (nn.Module): the built model.\n",
    "    \"\"\"\n",
    "    model = MODEL_REGISTRY.get(name)\n",
    "    if accepts_seed(model):\n",
    "        model = model(seed)\n",
    "    else:\n",
    "        model = model()\n",
    "    \n",
    "    return model"
   ]
  },
  {
   "cell_type": "markdown",
   "id": "8848aebf",
   "metadata": {},
   "source": [
    "## Loading the data"
   ]
  },
  {
   "cell_type": "markdown",
   "id": "eefe7ba9",
   "metadata": {},
   "source": [
    "Let's now setup the loading of the data. We start with some utility functions that were given in the project."
   ]
  },
  {
   "cell_type": "code",
   "execution_count": 5,
   "id": "5d5a0034",
   "metadata": {},
   "outputs": [],
   "source": [
    "### Utils\n",
    "def download_data(path_to_data):\n",
    "    if not os.path.exists(path_to_data):\n",
    "        os.makedirs(os.path.dirname(path_to_data))\n",
    "    output = \"IT_data.h5\"\n",
    "    data_path = os.path.join(path_to_data, output)\n",
    "    if not os.path.exists(data_path):\n",
    "        url = \"https://drive.google.com/file/d/1s6caFNRpyR9m7ZM6XEv_e8mcXT3_PnHS/view?usp=share_link\"\n",
    "        gdown.download(url, os.path.join(path_to_data, output), quiet=False, fuzzy=True)\n",
    "\n",
    "def load_it_data(path_to_data):\n",
    "    \"\"\" Load IT data\n",
    "\n",
    "    Args:\n",
    "        path_to_data (str): Path to the data\n",
    "\n",
    "    Returns:\n",
    "        np.array (x6): Stimulus train/val/test; objects list train/val/test; spikes train/val\n",
    "    \"\"\"\n",
    "\n",
    "    datafile = h5py.File(os.path.join(path_to_data,'IT_data.h5'), 'r')\n",
    "\n",
    "    stimulus_train = datafile['stimulus_train'][()]\n",
    "    spikes_train = datafile['spikes_train'][()]\n",
    "    objects_train = datafile['object_train'][()]\n",
    "    \n",
    "    stimulus_val = datafile['stimulus_val'][()]\n",
    "    spikes_val = datafile['spikes_val'][()]\n",
    "    objects_val = datafile['object_val'][()]\n",
    "    \n",
    "    stimulus_test = datafile['stimulus_test'][()]\n",
    "    objects_test = datafile['object_test'][()]\n",
    "\n",
    "    ### Decode back object type to latin\n",
    "    objects_train = [obj_tmp.decode(\"latin-1\") for obj_tmp in objects_train]\n",
    "    objects_val = [obj_tmp.decode(\"latin-1\") for obj_tmp in objects_val]\n",
    "    objects_test = [obj_tmp.decode(\"latin-1\") for obj_tmp in objects_test]\n",
    "\n",
    "    return stimulus_train, stimulus_val, stimulus_test, objects_train, objects_val, objects_test, spikes_train, spikes_val"
   ]
  },
  {
   "cell_type": "markdown",
   "id": "1ce109f0",
   "metadata": {},
   "source": [
    "Let's now create a function for retrieving the data we are interested in."
   ]
  },
  {
   "cell_type": "code",
   "execution_count": 6,
   "id": "fea70b28",
   "metadata": {},
   "outputs": [],
   "source": [
    "def get_data():\n",
    "    \"\"\"Get the data from the IT dataset.\n",
    "\n",
    "    Returns:\n",
    "        tuple: tuples (stimulus, objects, spikes) for training and validation sets.\n",
    "    \"\"\"\n",
    "    stimulus_train, stimulus_val, stimulus_test, objects_train, objects_val, objects_test, spikes_train, spikes_val = load_it_data('src/data/')\n",
    "    return (stimulus_train, objects_train, spikes_train), (stimulus_val, objects_val, spikes_val)"
   ]
  },
  {
   "cell_type": "markdown",
   "id": "1594daa0",
   "metadata": {},
   "source": [
    "## Part 1: Linear regression models to predict neural activity from pixels"
   ]
  },
  {
   "cell_type": "markdown",
   "id": "3c488a06",
   "metadata": {},
   "source": [
    "First, we load the dataset using the functions defined above."
   ]
  },
  {
   "cell_type": "code",
   "execution_count": null,
   "id": "ffe3db54",
   "metadata": {},
   "outputs": [],
   "source": [
    "train_data, val_data = get_data()\n",
    "stimulus_train, objects_train, spikes_train = train_data\n",
    "stimulus_val, objects_val, spikes_val = val_data"
   ]
  },
  {
   "cell_type": "markdown",
   "id": "61aad0ff",
   "metadata": {},
   "source": [
    "In the first part of the project, we develop a linear regression model which can predict the neural activity from pixels. We use three different types of linear regression: least-square regression, ridge regression, and ridge regression with high regularization."
   ]
  },
  {
   "cell_type": "code",
   "execution_count": null,
   "id": "976c3656",
   "metadata": {},
   "outputs": [
    {
     "name": "stderr",
     "output_type": "stream",
     "text": [
      "/opt/anaconda3/envs/nx-414/lib/python3.10/site-packages/sklearn/linear_model/_ridge.py:252: LinAlgWarning: Ill-conditioned matrix (rcond=2.34954e-09): result may not be accurate.\n",
      "  dual_coef = linalg.solve(K, y, assume_a=\"pos\", overwrite_a=False)\n"
     ]
    },
    {
     "name": "stdout",
     "output_type": "stream",
     "text": [
      "Linear regression score on training data:  0.38400980830192566\n",
      "Ridge regression score on training data:  0.9999993443489075\n",
      "Ridge regression score with high regularization on training data:  0.9983471632003784\n",
      "Linear regression score on validation data:  -0.04113948345184326\n",
      "Ridge regression score on validation data:  -0.929978609085083\n",
      "Ridge regression score with high regularization on validation data:  -0.7975594401359558\n"
     ]
    }
   ],
   "source": [
    "linreg = LinearRegression()\n",
    "ridge = Ridge(alpha=1.0)\n",
    "ridge_highreg = Ridge(alpha=100.0)\n",
    "\n",
    "# Flatten the images into a 2D array (n_stimulus, n_channels * img_size * img_size)\n",
    "stim_train = stimulus_train.reshape(stimulus_train.shape[0], -1)\n",
    "scaler = StandardScaler()\n",
    "stim_train = scaler.fit_transform(stim_train)\n",
    "\n",
    "linreg.fit(stim_train, spikes_train)\n",
    "ridge.fit(stim_train, spikes_train)\n",
    "ridge_highreg.fit(stim_train, spikes_train)\n",
    "\n",
    "# Evaluate the models on the training data (R^2 score), if too high can indicate overfitting\n",
    "linreg_score_train = linreg.score(stim_train, spikes_train)\n",
    "ridge_score_train = ridge.score(stim_train, spikes_train)\n",
    "ridge_highreg_score_train = ridge_highreg.score(stim_train, spikes_train)\n",
    "\n",
    "print('Linear regression score on training data: ', linreg_score_train)\n",
    "print('Ridge regression score on training data: ', ridge_score_train)\n",
    "print('Ridge regression score with high regularization on training data: ', ridge_highreg_score_train)\n",
    "\n",
    "stim_val = stimulus_val.reshape(stimulus_val.shape[0], -1)\n",
    "stim_val = scaler.transform(stim_val)\n",
    "\n",
    "# Evaluate the models on the validation data (R^2 score)\n",
    "linreg_score_val = linreg.score(stim_val, spikes_val)\n",
    "ridge_score_val = ridge.score(stim_val, spikes_val)\n",
    "ridge_highreg_score_val = ridge_highreg.score(stim_val, spikes_val)\n",
    "\n",
    "print('Linear regression score on validation data: ', linreg_score_val)\n",
    "print('Ridge regression score on validation data: ', ridge_score_val)\n",
    "print('Ridge regression score with high regularization on validation data: ', ridge_highreg_score_val)"
   ]
  },
  {
   "cell_type": "markdown",
   "id": "16814b92",
   "metadata": {},
   "source": [
    "Now, we can evaluate the predictions by checking both the correlation and the explained variance for each neuron. We plot the distribution for the explained variance across neurons."
   ]
  },
  {
   "cell_type": "code",
   "execution_count": 49,
   "id": "c844e774",
   "metadata": {},
   "outputs": [
    {
     "data": {
      "image/png": "[encoded data removed]",
      "text/plain": [
       "<Figure size 640x480 with 1 Axes>"
      ]
     },
     "metadata": {},
     "output_type": "display_data"
    }
   ],
   "source": [
    "def evaluate_model(model, stimulus, spikes):\n",
    "    pred = model.predict(stimulus.reshape(stimulus.shape[0], -1))\n",
    "\n",
    "    correlations = []\n",
    "    explained_variances = []\n",
    "\n",
    "    for i in range(spikes.shape[1]):\n",
    "        # Correlation\n",
    "        corr, _ = pearsonr(pred[:, i], spikes[:, i])\n",
    "        correlations.append(corr)\n",
    "        \n",
    "        # Explained variance\n",
    "        ev = explained_variance_score(pred[:, i], spikes[:, i])\n",
    "        explained_variances.append(ev)\n",
    "\n",
    "    # Plot distribution of explained variance\n",
    "    plt.hist(explained_variances, bins=20, edgecolor='k', alpha=0.7)\n",
    "    plt.xlabel('Explained variance')\n",
    "    plt.ylabel('# neurons')\n",
    "    plt.title('Distribution of explained variance across neurons')\n",
    "    plt.show()\n",
    "\n",
    "evaluate_model(linreg, stimulus_val, spikes_val)"
   ]
  },
  {
   "cell_type": "markdown",
   "id": "2eb73017",
   "metadata": {},
   "source": [
    "To improve the performance, we apply Principal Component Analysis (PCA) instead of predicting from pixels. This helps capturing the high dimensional structure of the images. We use the corresponding 1000 PCs."
   ]
  },
  {
   "cell_type": "code",
   "execution_count": 50,
   "id": "e914a0b1",
   "metadata": {},
   "outputs": [
    {
     "name": "stdout",
     "output_type": "stream",
     "text": [
      "Linear regression score on training data:  0.4685114920139313\n",
      "Ridge regression score on training data:  0.4685114324092865\n",
      "Ridge (high reg.) regression score on training data:  0.46850675344467163\n",
      "Linear regression score on validation data:  -0.07858569175004959\n",
      "Ridge regression score on validation data:  -0.07857196033000946\n",
      "Ridge (high reg.) regression score on validation data:  -0.07735566794872284\n"
     ]
    }
   ],
   "source": [
    "pca = PCA(n_components=1000)\n",
    "stim_train_pca = pca.fit_transform(stim_train)\n",
    "stim_val_pca = pca.transform(stim_val)\n",
    "\n",
    "linreg = LinearRegression()\n",
    "ridge = Ridge(alpha=1.0)\n",
    "ridge_highreg = Ridge(alpha=100.0)\n",
    "\n",
    "linreg.fit(stim_train_pca, spikes_train)\n",
    "ridge.fit(stim_train_pca, spikes_train)\n",
    "ridge_highreg.fit(stim_train_pca, spikes_train)\n",
    "\n",
    "linreg_score_train = linreg.score(stim_train_pca, spikes_train)\n",
    "ridge_score_train = ridge.score(stim_train_pca, spikes_train)\n",
    "ridge_highreg_score_train = ridge_highreg.score(stim_train_pca, spikes_train)\n",
    "\n",
    "print('Linear regression score on training data: ', linreg_score_train)\n",
    "print('Ridge regression score on training data: ', ridge_score_train)\n",
    "print('Ridge (high reg.) regression score on training data: ', ridge_highreg_score_train)\n",
    "\n",
    "linreg_score_val = linreg.score(stim_val_pca, spikes_val)\n",
    "ridge_score_val = ridge.score(stim_val_pca, spikes_val)\n",
    "ridge_highreg_score_val = ridge_highreg.score(stim_val_pca, spikes_val)\n",
    "\n",
    "print('Linear regression score on validation data: ', linreg_score_val)\n",
    "print('Ridge regression score on validation data: ', ridge_score_val)\n",
    "print('Ridge (high reg.) regression score on validation data: ', ridge_highreg_score_val)"
   ]
  },
  {
   "cell_type": "markdown",
   "id": "159839a1",
   "metadata": {},
   "source": [
    "To improve the predictions, we then use a 5-fold cross-validation to find the best parameters for ridge regression between 20 different alpha values. Without PCA:"
   ]
  },
  {
   "cell_type": "code",
   "execution_count": 51,
   "id": "2b60a72d",
   "metadata": {},
   "outputs": [
    {
     "name": "stdout",
     "output_type": "stream",
     "text": [
      "Best alpha value: 615848.2110660254\n",
      "Best Ridge Regression score on training set: 0.16825632750988007\n",
      "Best Ridge Regression score on validation set: 0.08738022297620773\n"
     ]
    }
   ],
   "source": [
    "alphas = np.logspace(2, 10, 20)\n",
    "ridge = Ridge()\n",
    "\n",
    "cv = StratifiedGroupKFold(n_splits=5, shuffle=True, random_state=1)\n",
    "splits = list(cv.split(stim_train, objects_train, groups=objects_train))\n",
    "grid_search = GridSearchCV(ridge, param_grid={'alpha': alphas}, cv=splits, n_jobs=-1)\n",
    "grid_search.fit(stim_train, spikes_train)\n",
    "\n",
    "best_alpha = grid_search.best_params_['alpha']\n",
    "print(\"Best alpha value:\", best_alpha)\n",
    "\n",
    "best_ridge = Ridge(alpha=best_alpha)\n",
    "best_ridge.fit(stim_train, spikes_train)\n",
    "ridge_score_train = best_ridge.score(stim_train, spikes_train)\n",
    "ridge_score_val = best_ridge.score(stim_val, spikes_val)\n",
    "\n",
    "print(\"Best Ridge Regression score on training set:\", ridge_score_train)\n",
    "print(\"Best Ridge Regression score on validation set:\", ridge_score_val)"
   ]
  },
  {
   "cell_type": "markdown",
   "id": "9f1e2ce3",
   "metadata": {},
   "source": [
    "Cross-fold validation with PCA:"
   ]
  },
  {
   "cell_type": "code",
   "execution_count": 52,
   "id": "0de3e070",
   "metadata": {},
   "outputs": [
    {
     "name": "stdout",
     "output_type": "stream",
     "text": [
      "Best alpha value: 615848.2110660254\n",
      "Best Ridge Regression score on training set with PCA: 0.15886786580085754\n",
      "Best Ridge Regression score on validation set with PCA: 0.08645854890346527\n"
     ]
    }
   ],
   "source": [
    "alphas = np.logspace(0, 10, 20)\n",
    "ridge = Ridge()\n",
    "\n",
    "cv = StratifiedGroupKFold(n_splits=5, shuffle=True, random_state=1)\n",
    "splits = list(cv.split(stim_train_pca, objects_train, groups=objects_train))\n",
    "grid_search = GridSearchCV(ridge, param_grid={'alpha': alphas}, cv=splits, n_jobs=-1)\n",
    "grid_search.fit(stim_train_pca, spikes_train)\n",
    "\n",
    "best_alpha = grid_search.best_params_['alpha']\n",
    "print(\"Best alpha value:\", best_alpha)\n",
    "\n",
    "best_ridge = Ridge(alpha=best_alpha)\n",
    "best_ridge.fit(stim_train_pca, spikes_train)\n",
    "ridge_score_train_pca = best_ridge.score(stim_train_pca, spikes_train)\n",
    "ridge_score_val_pca = best_ridge.score(stim_val_pca, spikes_val)\n",
    "\n",
    "print(\"Best Ridge Regression score on training set with PCA:\", ridge_score_train_pca)\n",
    "print(\"Best Ridge Regression score on validation set with PCA:\", ridge_score_val_pca)"
   ]
  },
  {
   "cell_type": "markdown",
   "id": "f8d3d8fe",
   "metadata": {},
   "source": [
    "## Part 2: Predict the neural activity with the task-driven modeling approach"
   ]
  },
  {
   "cell_type": "markdown",
   "id": "53816a38",
   "metadata": {},
   "source": [
    "One way to improve the predictions is too use the linear regression models we implemented on the activations of each layer of a network like ResNet50. In this part, we use task-driven modeling to predict neural activity. This involves training the network to perform a relevant behavioral task in order to better align its predictions with the brain. </br>\n",
    "We will compare the performance of a pretrained model and an untrained model."
   ]
  },
  {
   "cell_type": "markdown",
   "id": "fe2c0db3",
   "metadata": {},
   "source": [
    "#### 2.1: With stimuli as input, we get activations from the model and we save only the 1000 first PCs for each layer </br>\n",
    "</br>\n",
    "With a pretrained model:"
   ]
  },
  {
   "cell_type": "code",
   "execution_count": 53,
   "id": "530cb6b9",
   "metadata": {},
   "outputs": [
    {
     "name": "stderr",
     "output_type": "stream",
     "text": [
      "/opt/anaconda3/envs/nx-414/lib/python3.10/site-packages/torchvision/models/_utils.py:208: UserWarning: The parameter 'pretrained' is deprecated since 0.13 and may be removed in the future, please use 'weights' instead.\n",
      "  warnings.warn(\n",
      "/opt/anaconda3/envs/nx-414/lib/python3.10/site-packages/torchvision/models/_utils.py:223: UserWarning: Arguments other than a weight enum or `None` for 'weights' are deprecated since 0.13 and may be removed in the future. The current behavior is equivalent to passing `weights=ResNet50_Weights.IMAGENET1K_V1`. You can also use `weights=ResNet50_Weights.DEFAULT` to get the most up-to-date weights.\n",
      "  warnings.warn(msg)\n"
     ]
    },
    {
     "name": "stdout",
     "output_type": "stream",
     "text": [
      "Layer: conv1\n",
      "Activations shape: (2592, 802816)\n",
      "Principal components shape: (2592, 1000)\n",
      "Layer: layer1\n",
      "Activations shape: (2592, 802816)\n",
      "Principal components shape: (2592, 1000)\n",
      "Layer: layer2\n",
      "Activations shape: (2592, 401408)\n",
      "Principal components shape: (2592, 1000)\n",
      "Layer: layer3\n",
      "Activations shape: (2592, 200704)\n",
      "Principal components shape: (2592, 1000)\n",
      "Layer: layer4\n",
      "Activations shape: (2592, 100352)\n",
      "Principal components shape: (2592, 1000)\n",
      "Layer: avgpool\n",
      "Activations shape: (2592, 2048)\n",
      "Principal components shape: (2592, 1000)\n"
     ]
    }
   ],
   "source": [
    "pretrained_resnet = resnet50(pretrained=True)\n",
    "pretrained_resnet.eval()\n",
    "\n",
    "layers = ['conv1', 'layer1', 'layer2', 'layer3', 'layer4', 'avgpool']\n",
    "\n",
    "PCs = {'pretrained': dict(), 'untrained': dict()}\n",
    "\n",
    "def get_PCs_hook(module, input, output, layer_name, model):\n",
    "    print('Layer:', layer_name)\n",
    "    activations = output.detach().cpu().numpy().reshape(output.shape[0], -1)\n",
    "    print('Activations shape:', activations.shape)\n",
    "    pca = PCA(n_components=1000)\n",
    "    pca_features = pca.fit_transform(activations)\n",
    "    print('Principal components shape:', pca_features.shape)\n",
    "    PCs[model][layer_name] = pca_features\n",
    "\n",
    "for name, layer in pretrained_resnet.named_children():\n",
    "    if name in layers:\n",
    "        layer.register_forward_hook(lambda m, i, o, name=name: get_PCs_hook(m, i, o, name, 'pretrained'))\n",
    "\n",
    "imgs = stimulus_train\n",
    "imgs = torch.from_numpy(imgs)\n",
    "with torch.no_grad():\n",
    "    pretrained_resnet(imgs)"
   ]
  },
  {
   "cell_type": "markdown",
   "id": "81682131",
   "metadata": {},
   "source": [
    "With an untrained model:"
   ]
  },
  {
   "cell_type": "code",
   "execution_count": 54,
   "id": "174ae6e2",
   "metadata": {},
   "outputs": [
    {
     "name": "stderr",
     "output_type": "stream",
     "text": [
      "/opt/anaconda3/envs/nx-414/lib/python3.10/site-packages/torchvision/models/_utils.py:208: UserWarning: The parameter 'pretrained' is deprecated since 0.13 and may be removed in the future, please use 'weights' instead.\n",
      "  warnings.warn(\n",
      "/opt/anaconda3/envs/nx-414/lib/python3.10/site-packages/torchvision/models/_utils.py:223: UserWarning: Arguments other than a weight enum or `None` for 'weights' are deprecated since 0.13 and may be removed in the future. The current behavior is equivalent to passing `weights=None`.\n",
      "  warnings.warn(msg)\n"
     ]
    },
    {
     "name": "stdout",
     "output_type": "stream",
     "text": [
      "Layer: conv1\n",
      "Activations shape: (2592, 802816)\n",
      "Principal components shape: (2592, 1000)\n",
      "Layer: layer1\n",
      "Activations shape: (2592, 802816)\n",
      "Principal components shape: (2592, 1000)\n",
      "Layer: layer2\n",
      "Activations shape: (2592, 401408)\n",
      "Principal components shape: (2592, 1000)\n",
      "Layer: layer3\n",
      "Activations shape: (2592, 200704)\n",
      "Principal components shape: (2592, 1000)\n",
      "Layer: layer4\n",
      "Activations shape: (2592, 100352)\n",
      "Principal components shape: (2592, 1000)\n",
      "Layer: avgpool\n",
      "Activations shape: (2592, 2048)\n",
      "Principal components shape: (2592, 1000)\n"
     ]
    }
   ],
   "source": [
    "untrained_resnet = resnet50(pretrained=False)\n",
    "untrained_resnet.eval()\n",
    "\n",
    "for name, layer in untrained_resnet.named_children():\n",
    "    if name in layers:\n",
    "        layer.register_forward_hook(lambda m, i, o, name=name: get_PCs_hook(m, i, o, name, 'untrained'))\n",
    "\n",
    "imgs = stimulus_train\n",
    "imgs = torch.from_numpy(imgs)\n",
    "with torch.no_grad():\n",
    "    untrained_resnet(imgs)"
   ]
  },
  {
   "cell_type": "markdown",
   "id": "c2192a50",
   "metadata": {},
   "source": [
    "#### 2.2: We use PCs to predict neural activity using linear regression"
   ]
  },
  {
   "cell_type": "code",
   "execution_count": 56,
   "id": "f3932ffd",
   "metadata": {},
   "outputs": [],
   "source": [
    "def get_activity_by_layer(layer, model):\n",
    "    pcs = PCs[model][layer]\n",
    "    linreg = LinearRegression()\n",
    "    linreg.fit(pcs, spikes_train)\n",
    "\n",
    "    # Evaluate the models on the training data (R^2 score), if too high can indicate overfitting\n",
    "    linreg_score_train = linreg.score(pcs, spikes_train)\n",
    "    print(\"For\", layer, \"of\", model, \"model - linear regression score on training data: \", linreg_score_train)\n",
    "\n",
    "    linreg_pred_activity = linreg.predict(pcs)\n",
    "    return linreg_pred_activity"
   ]
  },
  {
   "cell_type": "markdown",
   "id": "fe67b5b7",
   "metadata": {},
   "source": [
    "#### 2.3: We compute and plot the goodness of fit and the explained variance per layer"
   ]
  },
  {
   "cell_type": "code",
   "execution_count": 57,
   "id": "d7e4ea3f",
   "metadata": {},
   "outputs": [
    {
     "name": "stdout",
     "output_type": "stream",
     "text": [
      "For conv1 of pretrained model - linear regression score on training data:  0.4649617373943329\n",
      "For layer1 of pretrained model - linear regression score on training data:  0.6059792041778564\n",
      "For layer2 of pretrained model - linear regression score on training data:  0.6371134519577026\n",
      "For layer3 of pretrained model - linear regression score on training data:  0.6881986260414124\n",
      "For layer4 of pretrained model - linear regression score on training data:  0.665683925151825\n",
      "For avgpool of pretrained model - linear regression score on training data:  0.6300759315490723\n",
      "For conv1 of untrained model - linear regression score on training data:  0.4630233645439148\n",
      "For layer1 of untrained model - linear regression score on training data:  0.5525032877922058\n",
      "For layer2 of untrained model - linear regression score on training data:  0.5561748743057251\n",
      "For layer3 of untrained model - linear regression score on training data:  0.5511727929115295\n",
      "For layer4 of untrained model - linear regression score on training data:  0.5403310060501099\n",
      "For avgpool of untrained model - linear regression score on training data:  0.5174821019172668\n"
     ]
    }
   ],
   "source": [
    "# Store histograms instead of plotting immediately\n",
    "pretrained_expl_vars = {}\n",
    "pretrained_correlations = {}\n",
    "untrained_expl_vars = {}\n",
    "untrained_correlations = {}\n",
    "\n",
    "\n",
    "# For pretrained model\n",
    "for layer in layers:\n",
    "    pred_activity = get_activity_by_layer(layer, 'pretrained')\n",
    "    explained_variances = [\n",
    "        explained_variance_score(pred_activity[:, i], spikes_train[:, i])\n",
    "        for i in range(spikes_train.shape[1])\n",
    "    ]\n",
    "    pretrained_expl_vars[layer] = explained_variances\n",
    "    correlation = [\n",
    "        pearsonr(pred_activity[:, i], spikes_train[:, i])[0]\n",
    "        for i in range(spikes_train.shape[1])\n",
    "    ]\n",
    "    pretrained_correlations[layer] = correlation\n",
    "\n",
    "# For untrained model\n",
    "for layer in layers:\n",
    "    pred_activity = get_activity_by_layer(layer, 'untrained')\n",
    "    explained_variances = [\n",
    "        explained_variance_score(pred_activity[:, i], spikes_train[:, i])\n",
    "        for i in range(spikes_train.shape[1])\n",
    "    ]\n",
    "    untrained_expl_vars[layer] = explained_variances\n",
    "    correlation = [\n",
    "        pearsonr(pred_activity[:, i], spikes_train[:, i])[0]\n",
    "        for i in range(spikes_train.shape[1])\n",
    "    ]\n",
    "    untrained_correlations[layer] = correlation"
   ]
  },
  {
   "cell_type": "markdown",
   "id": "79576a7e",
   "metadata": {},
   "source": [
    "#### 2.4: Finally, we can plot all the results. </br>\n",
    "\n",
    "First, the explained variance per layer:"
   ]
  },
  {
   "cell_type": "code",
   "execution_count": 58,
   "id": "d11bed0a",
   "metadata": {},
   "outputs": [
    {
     "name": "stderr",
     "output_type": "stream",
     "text": [
      "No artists with labels found to put in legend.  Note that artists whose label start with an underscore are ignored when legend() is called with no argument.\n"
     ]
    },
    {
     "data": {
      "image/png": "[encoded data removed]",
      "text/plain": [
       "<Figure size 800x1500 with 12 Axes>"
      ]
     },
     "metadata": {},
     "output_type": "display_data"
    }
   ],
   "source": [
    "# Plotting\n",
    "num_layers = len(layers)\n",
    "fig, axes = plt.subplots(num_layers, 2, figsize=(8, 2.5 * num_layers), sharex=True, sharey=True)\n",
    "\n",
    "for idx, layer in enumerate(layers):\n",
    "    # Untrained\n",
    "    data_untrained = untrained_expl_vars[layer]\n",
    "    axes[idx, 0].hist(data_untrained, bins=20, edgecolor='k', alpha=0.7, color='tab:orange')\n",
    "    axes[idx, 0].set_ylabel(f'{layer}', rotation=90, labelpad=30, fontsize=9)\n",
    "    if idx == 0:\n",
    "        axes[idx, 0].set_title('Untrained', fontsize=10)\n",
    "    if idx == num_layers - 1:\n",
    "        axes[idx, 0].set_xlabel('Explained variance')\n",
    "\n",
    "    # Pretrained\n",
    "    data_pretrained = pretrained_expl_vars[layer]\n",
    "    axes[idx, 1].hist(data_pretrained, bins=20, edgecolor='k', alpha=0.7, color='tab:blue')\n",
    "    if idx == 0:\n",
    "        axes[idx, 1].set_title('Pretrained', fontsize=10)\n",
    "    if idx == num_layers - 1:\n",
    "        axes[idx, 1].set_xlabel('Explained variance')\n",
    "\n",
    "# Optional: only add legend once (top-right plot)\n",
    "axes[0, 1].legend(loc='upper right', fontsize=8)\n",
    "\n",
    "plt.tight_layout()\n",
    "plt.savefig('explained_variance_comparison.png')\n",
    "plt.show()"
   ]
  },
  {
   "cell_type": "markdown",
   "id": "92e87f5a",
   "metadata": {},
   "source": [
    "And the correlation per layer:"
   ]
  },
  {
   "cell_type": "code",
   "execution_count": 60,
   "id": "eeb21e74",
   "metadata": {},
   "outputs": [
    {
     "name": "stderr",
     "output_type": "stream",
     "text": [
      "No artists with labels found to put in legend.  Note that artists whose label start with an underscore are ignored when legend() is called with no argument.\n"
     ]
    },
    {
     "data": {
      "image/png": "[encoded data removed]",
      "text/plain": [
       "<Figure size 800x1500 with 12 Axes>"
      ]
     },
     "metadata": {},
     "output_type": "display_data"
    }
   ],
   "source": [
    "# Plotting\n",
    "num_layers = len(layers)\n",
    "fig, axes = plt.subplots(num_layers, 2, figsize=(8, 2.5 * num_layers), sharex=True, sharey=True)\n",
    "\n",
    "for idx, layer in enumerate(layers):\n",
    "    # Untrained\n",
    "    data_untrained = untrained_correlations[layer]\n",
    "    axes[idx, 0].hist(data_untrained, bins=20, edgecolor='k', alpha=0.7, color='tab:orange')\n",
    "    axes[idx, 0].set_ylabel(f'{layer}', rotation=90, labelpad=30, fontsize=9)\n",
    "    if idx == 0:\n",
    "        axes[idx, 0].set_title('Untrained', fontsize=10)\n",
    "    if idx == num_layers - 1:\n",
    "        axes[idx, 0].set_xlabel('Correlation')\n",
    "        \n",
    "        \n",
    "    # Pretrained\n",
    "    data_pretrained = pretrained_correlations[layer]\n",
    "    axes[idx, 1].hist(data_pretrained, bins=20, edgecolor='k', alpha=0.7, color='tab:blue')\n",
    "    if idx == 0:\n",
    "        axes[idx, 1].set_title('Pretrained', fontsize=10)\n",
    "    if idx == num_layers - 1:\n",
    "        axes[idx, 1].set_xlabel('Correlation')\n",
    "\n",
    "# Optional: only add legend once (top-right plot)\n",
    "axes[0, 1].legend(loc='upper right', fontsize=8)\n",
    "\n",
    "plt.tight_layout()\n",
    "plt.savefig('correlations_comparison.png')\n",
    "plt.show()"
   ]
  },
  {
   "cell_type": "markdown",
   "id": "049e7c02",
   "metadata": {},
   "source": [
    "Finally, a violin plot of the explained variance:"
   ]
  },
  {
   "cell_type": "code",
   "execution_count": 63,
   "id": "e803f19f",
   "metadata": {},
   "outputs": [
    {
     "data": {
      "image/png": "[encoded data removed]",
      "text/plain": [
       "<Figure size 1000x500 with 1 Axes>"
      ]
     },
     "metadata": {},
     "output_type": "display_data"
    }
   ],
   "source": [
    "sns.set_context(\"paper\", font_scale=2)\n",
    "\n",
    "# Prepare data\n",
    "data = []\n",
    "for layer in layers:\n",
    "    for val in pretrained_expl_vars[layer]:\n",
    "        data.append({'Layer': layer, 'Explained Variance': val, 'Model': 'Pretrained'})\n",
    "    for val in untrained_expl_vars[layer]:\n",
    "        data.append({'Layer': layer, 'Explained Variance': val, 'Model': 'Untrained'})\n",
    "\n",
    "df = pd.DataFrame(data)\n",
    "\n",
    "# Violin plot\n",
    "plt.figure(figsize=(10, 5))\n",
    "sns.violinplot(x='Layer', y='Explained Variance', hue='Model', data=df, split=True, inner='quart', palette='bright')\n",
    "plt.legend(loc='lower center', ncol=2)\n",
    "# plt.title('Distribution Drift of Explained Variance per Layer')\n",
    "plt.tight_layout()\n",
    "plt.savefig('drift_violin_plot.png', bbox_inches='tight')\n",
    "plt.show()"
   ]
  },
  {
   "cell_type": "markdown",
   "id": "3fb0531e",
   "metadata": {},
   "source": [
    "## Part 3: Predict the neural activity with the data-driven modeling approach"
   ]
  },
  {
   "cell_type": "code",
   "execution_count": 64,
   "id": "1f0e835b",
   "metadata": {},
   "outputs": [
    {
     "name": "stdout",
     "output_type": "stream",
     "text": [
      "Using CPU\n"
     ]
    }
   ],
   "source": [
    "# Set random seed for reproducibility\n",
    "torch.manual_seed(0)\n",
    "np.random.seed(0)\n",
    "\n",
    "n_out = 168\n",
    "batch_size = 16\n",
    "device = 'cuda:0' if torch.cuda.is_available() else 'cpu'\n",
    "if not 'cuda' in device:\n",
    "    print('Using CPU')\n",
    "\n",
    "train_dataset = TensorDataset(\n",
    "    torch.from_numpy(stimulus_train).float(),\n",
    "    torch.from_numpy(spikes_train).float()\n",
    ")\n",
    "\n",
    "val_dataset = TensorDataset(\n",
    "    torch.from_numpy(stimulus_val).float(),\n",
    "    torch.from_numpy(spikes_val).float()\n",
    ")\n",
    "\n",
    "trainloader = DataLoader(train_dataset, batch_size=batch_size, shuffle=True)\n",
    "valloader = DataLoader(val_dataset, batch_size=batch_size, shuffle=False)\n",
    "\n",
    "def create_setup(optim, use_batch_norm=True):\n",
    "    img_size = stimulus_train.shape[2]\n",
    "    \n",
    "    layers = [\n",
    "        nn.Conv2d(3, 64, kernel_size=3, stride=1, padding=1),\n",
    "        nn.ReLU(),\n",
    "        nn.MaxPool2d(kernel_size=2, stride=2),\n",
    "        nn.Conv2d(64, 128, kernel_size=3, stride=1, padding=1),\n",
    "        nn.ReLU(),\n",
    "        nn.MaxPool2d(kernel_size=2, stride=2),\n",
    "        nn.Flatten(),\n",
    "        nn.Dropout(0.5),\n",
    "        nn.Linear(128 * (img_size // 4) * (img_size // 4), n_out)\n",
    "    ]\n",
    "    if use_batch_norm:\n",
    "        layers.insert(2, nn.BatchNorm2d(64))\n",
    "        layers.insert(6, nn.BatchNorm2d(128))\n",
    "\n",
    "    model = nn.Sequential(*layers)\n",
    "    model = model.to(device)\n",
    "    print(model)\n",
    "    optimizer = torch.optim.AdamW(model.parameters(), lr=1e-3, weight_decay=1e-4) if optim == 'adamw' \\\n",
    "        else torch.optim.SGD(model.parameters(), lr=1e-3)\n",
    "    criterion = nn.MSELoss()\n",
    "    return model, optimizer, criterion\n",
    "\n",
    "def do_train(model, dataloader, optimizer, criterion, epochs):\n",
    "    model.train()\n",
    "    for epoch in range(epochs):\n",
    "        loss = 0.0\n",
    "        mae = 0.0\n",
    "        for data, targets in tqdm(dataloader, desc=f'Training - epoch {epoch+1}'):\n",
    "            data, targets = data.to(device), targets.to(device)\n",
    "            optimizer.zero_grad()\n",
    "            out = model(data)\n",
    "            loss = criterion(out, targets)\n",
    "            loss.backward()\n",
    "            # Gradient clipping to prevent exploding gradients\n",
    "            torch.nn.utils.clip_grad_norm_(model.parameters(), max_norm=1.0)\n",
    "            optimizer.step()\n",
    "            \n",
    "            loss += loss.item()\n",
    "            mae += torch.mean(torch.abs(out - targets)).item()\n",
    "\n",
    "        loss /= len(dataloader)\n",
    "        mae /= len(dataloader)\n",
    "        print('Epoch [{}/{}] MSE: {:.4f}, MAE: {:.2f}'.format(epoch+1, epochs, loss, mae))\n",
    "    \n",
    "def do_test(model, dataloader, criterion):\n",
    "    model.eval()\n",
    "    loss = 0.0\n",
    "    mae = 0.0\n",
    "    with torch.no_grad():\n",
    "        for data, targets in tqdm(dataloader, desc=f'Testing'):\n",
    "            data, targets = data.to(device), targets.to(device)\n",
    "            out = model(data)\n",
    "            loss = criterion(out, targets)\n",
    "\n",
    "            loss += loss.item()\n",
    "            mae += torch.mean(torch.abs(out - targets)).item()\n",
    "\n",
    "        loss /= len(dataloader)\n",
    "        mae /= len(dataloader)\n",
    "\n",
    "    return loss, mae"
   ]
  },
  {
   "cell_type": "code",
   "execution_count": 65,
   "id": "01c04c68",
   "metadata": {},
   "outputs": [
    {
     "name": "stdout",
     "output_type": "stream",
     "text": [
      "Optimizer: adamw, Batch Norm: True\n",
      "Sequential(\n",
      "  (0): Conv2d(3, 64, kernel_size=(3, 3), stride=(1, 1), padding=(1, 1))\n",
      "  (1): ReLU()\n",
      "  (2): BatchNorm2d(64, eps=1e-05, momentum=0.1, affine=True, track_running_stats=True)\n",
      "  (3): MaxPool2d(kernel_size=2, stride=2, padding=0, dilation=1, ceil_mode=False)\n",
      "  (4): Conv2d(64, 128, kernel_size=(3, 3), stride=(1, 1), padding=(1, 1))\n",
      "  (5): ReLU()\n",
      "  (6): BatchNorm2d(128, eps=1e-05, momentum=0.1, affine=True, track_running_stats=True)\n",
      "  (7): MaxPool2d(kernel_size=2, stride=2, padding=0, dilation=1, ceil_mode=False)\n",
      "  (8): Flatten(start_dim=1, end_dim=-1)\n",
      "  (9): Dropout(p=0.5, inplace=False)\n",
      "  (10): Linear(in_features=401408, out_features=168, bias=True)\n",
      ")\n"
     ]
    },
    {
     "name": "stderr",
     "output_type": "stream",
     "text": [
      "Training - epoch 1: 100%|██████████| 162/162 [01:47<00:00,  1.51it/s]\n"
     ]
    },
    {
     "name": "stdout",
     "output_type": "stream",
     "text": [
      "Epoch [1/10] MSE: 13.6076, MAE: 22.65\n"
     ]
    },
    {
     "name": "stderr",
     "output_type": "stream",
     "text": [
      "Training - epoch 2: 100%|██████████| 162/162 [01:44<00:00,  1.56it/s]\n"
     ]
    },
    {
     "name": "stdout",
     "output_type": "stream",
     "text": [
      "Epoch [2/10] MSE: 8.3811, MAE: 19.51\n"
     ]
    },
    {
     "name": "stderr",
     "output_type": "stream",
     "text": [
      "Training - epoch 3: 100%|██████████| 162/162 [01:44<00:00,  1.55it/s]\n"
     ]
    },
    {
     "name": "stdout",
     "output_type": "stream",
     "text": [
      "Epoch [3/10] MSE: 3.5580, MAE: 15.40\n"
     ]
    },
    {
     "name": "stderr",
     "output_type": "stream",
     "text": [
      "Training - epoch 4: 100%|██████████| 162/162 [01:47<00:00,  1.51it/s]\n"
     ]
    },
    {
     "name": "stdout",
     "output_type": "stream",
     "text": [
      "Epoch [4/10] MSE: 1.2388, MAE: 10.73\n"
     ]
    },
    {
     "name": "stderr",
     "output_type": "stream",
     "text": [
      "Training - epoch 5: 100%|██████████| 162/162 [01:45<00:00,  1.53it/s]\n"
     ]
    },
    {
     "name": "stdout",
     "output_type": "stream",
     "text": [
      "Epoch [5/10] MSE: 0.2242, MAE: 5.97\n"
     ]
    },
    {
     "name": "stderr",
     "output_type": "stream",
     "text": [
      "Training - epoch 6: 100%|██████████| 162/162 [01:45<00:00,  1.54it/s]\n"
     ]
    },
    {
     "name": "stdout",
     "output_type": "stream",
     "text": [
      "Epoch [6/10] MSE: 0.0021, MAE: 1.36\n"
     ]
    },
    {
     "name": "stderr",
     "output_type": "stream",
     "text": [
      "Training - epoch 7: 100%|██████████| 162/162 [01:45<00:00,  1.54it/s]\n"
     ]
    },
    {
     "name": "stdout",
     "output_type": "stream",
     "text": [
      "Epoch [7/10] MSE: 0.0015, MAE: 0.26\n"
     ]
    },
    {
     "name": "stderr",
     "output_type": "stream",
     "text": [
      "Training - epoch 8: 100%|██████████| 162/162 [01:45<00:00,  1.54it/s]\n"
     ]
    },
    {
     "name": "stdout",
     "output_type": "stream",
     "text": [
      "Epoch [8/10] MSE: 0.0011, MAE: 0.25\n"
     ]
    },
    {
     "name": "stderr",
     "output_type": "stream",
     "text": [
      "Training - epoch 9: 100%|██████████| 162/162 [01:46<00:00,  1.52it/s]\n"
     ]
    },
    {
     "name": "stdout",
     "output_type": "stream",
     "text": [
      "Epoch [9/10] MSE: 0.0012, MAE: 0.24\n"
     ]
    },
    {
     "name": "stderr",
     "output_type": "stream",
     "text": [
      "Training - epoch 10: 100%|██████████| 162/162 [01:46<00:00,  1.52it/s]\n"
     ]
    },
    {
     "name": "stdout",
     "output_type": "stream",
     "text": [
      "Epoch [10/10] MSE: 0.0012, MAE: 0.23\n"
     ]
    },
    {
     "name": "stderr",
     "output_type": "stream",
     "text": [
      "Testing: 100%|██████████| 18/18 [00:03<00:00,  4.58it/s]\n"
     ]
    },
    {
     "name": "stdout",
     "output_type": "stream",
     "text": [
      "Final MSE: 0.0103, MAE: 0.24\n",
      "----------------------------------------\n",
      "Optimizer: adamw, Batch Norm: False\n",
      "Sequential(\n",
      "  (0): Conv2d(3, 64, kernel_size=(3, 3), stride=(1, 1), padding=(1, 1))\n",
      "  (1): ReLU()\n",
      "  (2): MaxPool2d(kernel_size=2, stride=2, padding=0, dilation=1, ceil_mode=False)\n",
      "  (3): Conv2d(64, 128, kernel_size=(3, 3), stride=(1, 1), padding=(1, 1))\n",
      "  (4): ReLU()\n",
      "  (5): MaxPool2d(kernel_size=2, stride=2, padding=0, dilation=1, ceil_mode=False)\n",
      "  (6): Flatten(start_dim=1, end_dim=-1)\n",
      "  (7): Dropout(p=0.5, inplace=False)\n",
      "  (8): Linear(in_features=401408, out_features=168, bias=True)\n",
      ")\n"
     ]
    },
    {
     "name": "stderr",
     "output_type": "stream",
     "text": [
      "Training - epoch 1: 100%|██████████| 162/162 [01:38<00:00,  1.64it/s]\n"
     ]
    },
    {
     "name": "stdout",
     "output_type": "stream",
     "text": [
      "Epoch [1/10] MSE: 0.0018, MAE: 0.40\n"
     ]
    },
    {
     "name": "stderr",
     "output_type": "stream",
     "text": [
      "Training - epoch 2: 100%|██████████| 162/162 [01:36<00:00,  1.68it/s]\n"
     ]
    },
    {
     "name": "stdout",
     "output_type": "stream",
     "text": [
      "Epoch [2/10] MSE: 0.0016, MAE: 0.27\n"
     ]
    },
    {
     "name": "stderr",
     "output_type": "stream",
     "text": [
      "Training - epoch 3: 100%|██████████| 162/162 [01:39<00:00,  1.63it/s]\n"
     ]
    },
    {
     "name": "stdout",
     "output_type": "stream",
     "text": [
      "Epoch [3/10] MSE: 0.0018, MAE: 0.27\n"
     ]
    },
    {
     "name": "stderr",
     "output_type": "stream",
     "text": [
      "Training - epoch 4: 100%|██████████| 162/162 [01:39<00:00,  1.63it/s]\n"
     ]
    },
    {
     "name": "stdout",
     "output_type": "stream",
     "text": [
      "Epoch [4/10] MSE: 0.0016, MAE: 0.27\n"
     ]
    },
    {
     "name": "stderr",
     "output_type": "stream",
     "text": [
      "Training - epoch 5: 100%|██████████| 162/162 [01:38<00:00,  1.65it/s]\n"
     ]
    },
    {
     "name": "stdout",
     "output_type": "stream",
     "text": [
      "Epoch [5/10] MSE: 0.0015, MAE: 0.27\n"
     ]
    },
    {
     "name": "stderr",
     "output_type": "stream",
     "text": [
      "Training - epoch 6: 100%|██████████| 162/162 [01:39<00:00,  1.63it/s]\n"
     ]
    },
    {
     "name": "stdout",
     "output_type": "stream",
     "text": [
      "Epoch [6/10] MSE: 0.0017, MAE: 0.27\n"
     ]
    },
    {
     "name": "stderr",
     "output_type": "stream",
     "text": [
      "Training - epoch 7: 100%|██████████| 162/162 [01:38<00:00,  1.64it/s]\n"
     ]
    },
    {
     "name": "stdout",
     "output_type": "stream",
     "text": [
      "Epoch [7/10] MSE: 0.0019, MAE: 0.27\n"
     ]
    },
    {
     "name": "stderr",
     "output_type": "stream",
     "text": [
      "Training - epoch 8: 100%|██████████| 162/162 [01:37<00:00,  1.67it/s]\n"
     ]
    },
    {
     "name": "stdout",
     "output_type": "stream",
     "text": [
      "Epoch [8/10] MSE: 0.0015, MAE: 0.27\n"
     ]
    },
    {
     "name": "stderr",
     "output_type": "stream",
     "text": [
      "Training - epoch 9: 100%|██████████| 162/162 [01:38<00:00,  1.65it/s]\n"
     ]
    },
    {
     "name": "stdout",
     "output_type": "stream",
     "text": [
      "Epoch [9/10] MSE: 0.0016, MAE: 0.27\n"
     ]
    },
    {
     "name": "stderr",
     "output_type": "stream",
     "text": [
      "Training - epoch 10: 100%|██████████| 162/162 [01:37<00:00,  1.65it/s]\n"
     ]
    },
    {
     "name": "stdout",
     "output_type": "stream",
     "text": [
      "Epoch [10/10] MSE: 0.0019, MAE: 0.27\n"
     ]
    },
    {
     "name": "stderr",
     "output_type": "stream",
     "text": [
      "Testing: 100%|██████████| 18/18 [00:03<00:00,  5.08it/s]\n"
     ]
    },
    {
     "name": "stdout",
     "output_type": "stream",
     "text": [
      "Final MSE: 0.0146, MAE: 0.28\n",
      "----------------------------------------\n",
      "Optimizer: sgd, Batch Norm: True\n",
      "Sequential(\n",
      "  (0): Conv2d(3, 64, kernel_size=(3, 3), stride=(1, 1), padding=(1, 1))\n",
      "  (1): ReLU()\n",
      "  (2): BatchNorm2d(64, eps=1e-05, momentum=0.1, affine=True, track_running_stats=True)\n",
      "  (3): MaxPool2d(kernel_size=2, stride=2, padding=0, dilation=1, ceil_mode=False)\n",
      "  (4): Conv2d(64, 128, kernel_size=(3, 3), stride=(1, 1), padding=(1, 1))\n",
      "  (5): ReLU()\n",
      "  (6): BatchNorm2d(128, eps=1e-05, momentum=0.1, affine=True, track_running_stats=True)\n",
      "  (7): MaxPool2d(kernel_size=2, stride=2, padding=0, dilation=1, ceil_mode=False)\n",
      "  (8): Flatten(start_dim=1, end_dim=-1)\n",
      "  (9): Dropout(p=0.5, inplace=False)\n",
      "  (10): Linear(in_features=401408, out_features=168, bias=True)\n",
      ")\n"
     ]
    },
    {
     "name": "stderr",
     "output_type": "stream",
     "text": [
      "Training - epoch 1: 100%|██████████| 162/162 [01:38<00:00,  1.65it/s]\n"
     ]
    },
    {
     "name": "stdout",
     "output_type": "stream",
     "text": [
      "Epoch [1/10] MSE: 0.0141, MAE: 0.84\n"
     ]
    },
    {
     "name": "stderr",
     "output_type": "stream",
     "text": [
      "Training - epoch 2: 100%|██████████| 162/162 [01:37<00:00,  1.66it/s]\n"
     ]
    },
    {
     "name": "stdout",
     "output_type": "stream",
     "text": [
      "Epoch [2/10] MSE: 0.0127, MAE: 0.81\n"
     ]
    },
    {
     "name": "stderr",
     "output_type": "stream",
     "text": [
      "Training - epoch 3: 100%|██████████| 162/162 [01:37<00:00,  1.66it/s]\n"
     ]
    },
    {
     "name": "stdout",
     "output_type": "stream",
     "text": [
      "Epoch [3/10] MSE: 0.0126, MAE: 0.79\n"
     ]
    },
    {
     "name": "stderr",
     "output_type": "stream",
     "text": [
      "Training - epoch 4: 100%|██████████| 162/162 [01:37<00:00,  1.66it/s]\n"
     ]
    },
    {
     "name": "stdout",
     "output_type": "stream",
     "text": [
      "Epoch [4/10] MSE: 0.0127, MAE: 0.78\n"
     ]
    },
    {
     "name": "stderr",
     "output_type": "stream",
     "text": [
      "Training - epoch 5: 100%|██████████| 162/162 [01:38<00:00,  1.64it/s]\n"
     ]
    },
    {
     "name": "stdout",
     "output_type": "stream",
     "text": [
      "Epoch [5/10] MSE: 0.0120, MAE: 0.77\n"
     ]
    },
    {
     "name": "stderr",
     "output_type": "stream",
     "text": [
      "Training - epoch 6: 100%|██████████| 162/162 [01:38<00:00,  1.65it/s]\n"
     ]
    },
    {
     "name": "stdout",
     "output_type": "stream",
     "text": [
      "Epoch [6/10] MSE: 0.0122, MAE: 0.76\n"
     ]
    },
    {
     "name": "stderr",
     "output_type": "stream",
     "text": [
      "Training - epoch 7: 100%|██████████| 162/162 [01:38<00:00,  1.65it/s]\n"
     ]
    },
    {
     "name": "stdout",
     "output_type": "stream",
     "text": [
      "Epoch [7/10] MSE: 0.0117, MAE: 0.75\n"
     ]
    },
    {
     "name": "stderr",
     "output_type": "stream",
     "text": [
      "Training - epoch 8: 100%|██████████| 162/162 [01:38<00:00,  1.65it/s]\n"
     ]
    },
    {
     "name": "stdout",
     "output_type": "stream",
     "text": [
      "Epoch [8/10] MSE: 0.0110, MAE: 0.74\n"
     ]
    },
    {
     "name": "stderr",
     "output_type": "stream",
     "text": [
      "Training - epoch 9: 100%|██████████| 162/162 [01:37<00:00,  1.66it/s]\n"
     ]
    },
    {
     "name": "stdout",
     "output_type": "stream",
     "text": [
      "Epoch [9/10] MSE: 0.0106, MAE: 0.73\n"
     ]
    },
    {
     "name": "stderr",
     "output_type": "stream",
     "text": [
      "Training - epoch 10: 100%|██████████| 162/162 [01:38<00:00,  1.65it/s]\n"
     ]
    },
    {
     "name": "stdout",
     "output_type": "stream",
     "text": [
      "Epoch [10/10] MSE: 0.0100, MAE: 0.73\n"
     ]
    },
    {
     "name": "stderr",
     "output_type": "stream",
     "text": [
      "Testing: 100%|██████████| 18/18 [00:03<00:00,  4.71it/s]\n"
     ]
    },
    {
     "name": "stdout",
     "output_type": "stream",
     "text": [
      "Final MSE: 0.0394, MAE: 0.45\n",
      "----------------------------------------\n",
      "Optimizer: sgd, Batch Norm: False\n",
      "Sequential(\n",
      "  (0): Conv2d(3, 64, kernel_size=(3, 3), stride=(1, 1), padding=(1, 1))\n",
      "  (1): ReLU()\n",
      "  (2): MaxPool2d(kernel_size=2, stride=2, padding=0, dilation=1, ceil_mode=False)\n",
      "  (3): Conv2d(64, 128, kernel_size=(3, 3), stride=(1, 1), padding=(1, 1))\n",
      "  (4): ReLU()\n",
      "  (5): MaxPool2d(kernel_size=2, stride=2, padding=0, dilation=1, ceil_mode=False)\n",
      "  (6): Flatten(start_dim=1, end_dim=-1)\n",
      "  (7): Dropout(p=0.5, inplace=False)\n",
      "  (8): Linear(in_features=401408, out_features=168, bias=True)\n",
      ")\n"
     ]
    },
    {
     "name": "stderr",
     "output_type": "stream",
     "text": [
      "Training - epoch 1: 100%|██████████| 162/162 [01:27<00:00,  1.85it/s]\n"
     ]
    },
    {
     "name": "stdout",
     "output_type": "stream",
     "text": [
      "Epoch [1/10] MSE: 0.0017, MAE: 0.28\n"
     ]
    },
    {
     "name": "stderr",
     "output_type": "stream",
     "text": [
      "Training - epoch 2: 100%|██████████| 162/162 [01:28<00:00,  1.84it/s]\n"
     ]
    },
    {
     "name": "stdout",
     "output_type": "stream",
     "text": [
      "Epoch [2/10] MSE: 0.0016, MAE: 0.28\n"
     ]
    },
    {
     "name": "stderr",
     "output_type": "stream",
     "text": [
      "Training - epoch 3: 100%|██████████| 162/162 [01:27<00:00,  1.84it/s]\n"
     ]
    },
    {
     "name": "stdout",
     "output_type": "stream",
     "text": [
      "Epoch [3/10] MSE: 0.0018, MAE: 0.28\n"
     ]
    },
    {
     "name": "stderr",
     "output_type": "stream",
     "text": [
      "Training - epoch 4: 100%|██████████| 162/162 [01:27<00:00,  1.86it/s]\n"
     ]
    },
    {
     "name": "stdout",
     "output_type": "stream",
     "text": [
      "Epoch [4/10] MSE: 0.0018, MAE: 0.28\n"
     ]
    },
    {
     "name": "stderr",
     "output_type": "stream",
     "text": [
      "Training - epoch 5: 100%|██████████| 162/162 [01:28<00:00,  1.84it/s]\n"
     ]
    },
    {
     "name": "stdout",
     "output_type": "stream",
     "text": [
      "Epoch [5/10] MSE: 0.0015, MAE: 0.27\n"
     ]
    },
    {
     "name": "stderr",
     "output_type": "stream",
     "text": [
      "Training - epoch 6: 100%|██████████| 162/162 [01:29<00:00,  1.80it/s]\n"
     ]
    },
    {
     "name": "stdout",
     "output_type": "stream",
     "text": [
      "Epoch [6/10] MSE: 0.0016, MAE: 0.27\n"
     ]
    },
    {
     "name": "stderr",
     "output_type": "stream",
     "text": [
      "Training - epoch 7: 100%|██████████| 162/162 [01:28<00:00,  1.84it/s]\n"
     ]
    },
    {
     "name": "stdout",
     "output_type": "stream",
     "text": [
      "Epoch [7/10] MSE: 0.0017, MAE: 0.27\n"
     ]
    },
    {
     "name": "stderr",
     "output_type": "stream",
     "text": [
      "Training - epoch 8: 100%|██████████| 162/162 [01:28<00:00,  1.84it/s]\n"
     ]
    },
    {
     "name": "stdout",
     "output_type": "stream",
     "text": [
      "Epoch [8/10] MSE: 0.0015, MAE: 0.27\n"
     ]
    },
    {
     "name": "stderr",
     "output_type": "stream",
     "text": [
      "Training - epoch 9: 100%|██████████| 162/162 [01:28<00:00,  1.84it/s]\n"
     ]
    },
    {
     "name": "stdout",
     "output_type": "stream",
     "text": [
      "Epoch [9/10] MSE: 0.0014, MAE: 0.27\n"
     ]
    },
    {
     "name": "stderr",
     "output_type": "stream",
     "text": [
      "Training - epoch 10: 100%|██████████| 162/162 [01:27<00:00,  1.86it/s]\n"
     ]
    },
    {
     "name": "stdout",
     "output_type": "stream",
     "text": [
      "Epoch [10/10] MSE: 0.0015, MAE: 0.27\n"
     ]
    },
    {
     "name": "stderr",
     "output_type": "stream",
     "text": [
      "Testing: 100%|██████████| 18/18 [00:03<00:00,  4.96it/s]"
     ]
    },
    {
     "name": "stdout",
     "output_type": "stream",
     "text": [
      "Final MSE: 0.0130, MAE: 0.27\n",
      "----------------------------------------\n"
     ]
    },
    {
     "name": "stderr",
     "output_type": "stream",
     "text": [
      "\n"
     ]
    }
   ],
   "source": [
    "for optim in ['adamw', 'sgd']:\n",
    "    for use_batch_norm in [True, False]:\n",
    "        print(f'Optimizer: {optim}, Batch Norm: {use_batch_norm}')\n",
    "        model, optimizer, criterion = create_setup(optim, use_batch_norm=use_batch_norm)\n",
    "        do_train(model, trainloader, optimizer, criterion, 10)\n",
    "        loss, acc = do_test(model, valloader, criterion)\n",
    "        print('Final MSE: {:.4f}, MAE: {:.2f}'.format(loss, acc))\n",
    "        print('--' * 20)"
   ]
  },
  {
   "cell_type": "markdown",
   "id": "61460487",
   "metadata": {},
   "source": [
    "## Part 4: Develop the most accurate model for predicting IT neural activity"
   ]
  },
  {
   "cell_type": "markdown",
   "id": "523218a1",
   "metadata": {},
   "source": [
    "### ⚠️ **DISCLAIMER:** </br>\n",
    "For this final part of the project, we organised the code into separate python scripts for better clarity and modularity. You can check it on our [GitHub repository](https://github.com/louise-montlahuc/nx414_team1) in the `src` folder. For the final submission we tried to merge everything on this notebook. </br>\n",
    "You do not need to run this code, as it includes long processes like training and finetuning the models. We are just presenting our work but if you want to load the best model you can go directly to the end of the notebook."
   ]
  },
  {
   "cell_type": "markdown",
   "id": "2ee4fe96",
   "metadata": {},
   "source": [
    "#### 4.1: The models\n",
    "\n",
    "In this part, our goal is to find the best model for predicting neural activity. We explore both the data-driven and the task-driven approaches and tried the following pretrained models:\n",
    "- ResNet18\n",
    "- ResNet50\n",
    "- ResNeXt\n",
    "- Vision Transformer (ViT)\n",
    "- ConvNeXt\n",
    "- DinoV2\n",
    "\n",
    "These choices are inspired by the brain-score platform, where they show the highest correlation with the neural activity. The first four are more traditional models that have been widely used in the field of computer vision."
   ]
  },
  {
   "cell_type": "code",
   "execution_count": 7,
   "id": "54d26942",
   "metadata": {},
   "outputs": [],
   "source": [
    "@MODEL_REGISTRY.register()\n",
    "class ConvNeXt(IModel):\n",
    "    def __init__(self):\n",
    "        super(ConvNeXt, self).__init__()\n",
    "        self.model = convnext_base(weights=ConvNeXt_Base_Weights.IMAGENET1K_V1)\n",
    "    \n",
    "    def get_layers(self, layer_name=None):\n",
    "        \"\"\"\n",
    "        Returns the layers on which to do the linear probing.\n",
    "        \"\"\"    \n",
    "        layer7 = self.model.get_submodule(\"features.7\")\n",
    "        classif = self.model.get_submodule(\"classifier\")\n",
    "        if layer_name == \"features.7\":\n",
    "            return [('layer7', layer7)]\n",
    "        elif layer_name == \"classifier\":\n",
    "            return [('classifier', classif)]\n",
    "        else:\n",
    "            return [('layer7', layer7), ('classifier', classif)]\n",
    "        \n",
    "@MODEL_REGISTRY.register()\n",
    "class ConvNeXt_randomW(IModel):\n",
    "    def __init__(self):\n",
    "        super(ConvNeXt_randomW, self).__init__()\n",
    "        self.model = convnext_base(weights=None)\n",
    "    \n",
    "    def get_layers(self, layer_name=None):\n",
    "        \"\"\"\n",
    "        Returns the layers on which to do the linear probing.\n",
    "        \"\"\"    \n",
    "        layer7 = self.model.get_submodule(\"features.7\")\n",
    "        classif = self.model.get_submodule(\"classifier\")\n",
    "        if layer_name == \"features.7\":\n",
    "            return [('layer7', layer7)]\n",
    "        elif layer_name == \"classifier\":\n",
    "            return [('classifier', classif)]\n",
    "        else:\n",
    "            return [('layer7', layer7), ('classifier', classif)]"
   ]
  },
  {
   "cell_type": "code",
   "execution_count": 8,
   "id": "222067d6",
   "metadata": {},
   "outputs": [],
   "source": [
    "@MODEL_REGISTRY.register()\n",
    "class DinoV2(IModel):\n",
    "    def __init__(self):\n",
    "        super(DinoV2, self).__init__()\n",
    "        self.model = torch.hub.load('facebookresearch/dinov2', 'dinov2_vitb14')\n",
    "        \n",
    "    def get_layers(self, layer_name=None):\n",
    "        \"\"\"\n",
    "        Returns the layers on which to do the linear probing.\n",
    "        \"\"\"    \n",
    "        module_block11 = self.model.get_submodule(\"blocks.11\")\n",
    "        module_norm = self.model.get_submodule(\"norm\")\n",
    "        if layer_name == \"blocks.11\":\n",
    "            return [('block11', module_block11)]\n",
    "        elif layer_name == \"norm\":\n",
    "            return [('norm', module_norm)]\n",
    "        else:\n",
    "            return [('block11', module_block11), ('norm', module_norm)]"
   ]
  },
  {
   "cell_type": "code",
   "execution_count": 9,
   "id": "7b5ead6d",
   "metadata": {},
   "outputs": [],
   "source": [
    "@MODEL_REGISTRY.register()\n",
    "class ResNet18(IModel):\n",
    "    def __init__(self):\n",
    "        super(ResNet18, self).__init__()\n",
    "        self.model = resnet18(weights=ResNet18_Weights.IMAGENET1K_V1)\n",
    "        \n",
    "@MODEL_REGISTRY.register()\n",
    "class ResNet18_randomW(IModel):\n",
    "    def __init__(self):\n",
    "        super(ResNet18_randomW, self).__init__()\n",
    "        self.model = resnet18(weights=None)"
   ]
  },
  {
   "cell_type": "code",
   "execution_count": 10,
   "id": "15fb1894",
   "metadata": {},
   "outputs": [],
   "source": [
    "@MODEL_REGISTRY.register()\n",
    "class ResNet50(IModel):\n",
    "    def __init__(self):\n",
    "        super(ResNet50, self).__init__()\n",
    "        self.model = resnet50(weights=ResNet50_Weights.IMAGENET1K_V1)\n",
    "\n",
    "@MODEL_REGISTRY.register()    \n",
    "class ResNet50_randomW(IModel):\n",
    "    def __init__(self):\n",
    "        super(ResNet50_randomW, self).__init__()\n",
    "        self.model = resnet50(weights=None) "
   ]
  },
  {
   "cell_type": "code",
   "execution_count": 11,
   "id": "eca081e4",
   "metadata": {},
   "outputs": [],
   "source": [
    "@MODEL_REGISTRY.register()\n",
    "class ResNeXt(IModel):\n",
    "    def __init__(self):\n",
    "        super(ResNeXt, self).__init__()\n",
    "        self.model = resnext101_32x8d(weights=ResNeXt101_32X8D_Weights.IMAGENET1K_V1)\n",
    "        \n",
    "        \n",
    "@MODEL_REGISTRY.register()\n",
    "class ResNeXt_randomW(IModel):\n",
    "    def __init__(self):\n",
    "        super(ResNeXt_randomW, self).__init__()\n",
    "        self.model = resnext101_32x8d(weights=None)"
   ]
  },
  {
   "cell_type": "code",
   "execution_count": 12,
   "id": "e7303e8f",
   "metadata": {},
   "outputs": [],
   "source": [
    "@MODEL_REGISTRY.register()\n",
    "class ViT(IModel):\n",
    "    def __init__(self):\n",
    "        super(ViT, self).__init__()\n",
    "        self.model = vit_b_16(weights=ViT_B_16_Weights.IMAGENET1K_V1)\n",
    "        \n",
    "@MODEL_REGISTRY.register()\n",
    "class ViT_randomW(IModel):\n",
    "    def __init__(self):\n",
    "        super(ViT_randomW, self).__init__()\n",
    "        self.model = vit_b_16(weights=None)"
   ]
  },
  {
   "cell_type": "markdown",
   "id": "5e111ef3",
   "metadata": {},
   "source": [
    "#### 4.2: Utils functions\n",
    "\n",
    "To set the seed:"
   ]
  },
  {
   "cell_type": "code",
   "execution_count": 13,
   "id": "d4bc039c",
   "metadata": {},
   "outputs": [],
   "source": [
    "def set_seed():\n",
    "    seed = 0\n",
    "    random.seed(seed)\n",
    "    np.random.seed(seed)\n",
    "    torch.manual_seed(seed)\n",
    "    if torch.cuda.is_available():\n",
    "        torch.cuda.manual_seed_all(seed)\n",
    "    os.environ['CUBLAS_WORKSPACE_CONFIG'] = ':4096:8'\n",
    "    torch.backends.cudnn.deterministic = True\n",
    "    torch.backends.cudnn.benchmark = False\n",
    "    torch.use_deterministic_algorithms(True, warn_only=True)\n",
    "    return seed"
   ]
  },
  {
   "cell_type": "markdown",
   "id": "a917d371",
   "metadata": {},
   "source": [
    "To plot the results:"
   ]
  },
  {
   "cell_type": "code",
   "execution_count": 14,
   "id": "38fca72b",
   "metadata": {},
   "outputs": [],
   "source": [
    "class Plotter():\n",
    "    @staticmethod\n",
    "    def save_corr_plot(data, title, path):\n",
    "        plt.hist(data, bins=20, edgecolor='k', alpha=0.7)\n",
    "        plt.xlabel('Pearson correlation coefficient')\n",
    "        plt.ylabel('# neurons')\n",
    "        plt.title(title)\n",
    "        if not os.path.exists(os.path.dirname(path)):\n",
    "            os.makedirs(os.path.dirname(path))\n",
    "        plt.savefig(path)\n",
    "        plt.close()\n",
    "    \n",
    "    @staticmethod\n",
    "    def update_r2_score_csv(new_scores: dict, path: str):\n",
    "        \"\"\"\n",
    "        Update or create a CSV file to store R² scores per model per layer.\n",
    "\n",
    "        Args:\n",
    "            model_name (str): Name of the model.\n",
    "            r2_scores (dict): Mapping of layer names to R² scores.\n",
    "            save_path (str): Path to the CSV file.\n",
    "        \"\"\"\n",
    "        # Update csv if it already exists\n",
    "        if os.path.exists(path):\n",
    "            df = pd.read_csv(path, index_col=0)\n",
    "            r2_scores = df[\"Score\"].to_dict()\n",
    "        # Create csv if it doesn't exist\n",
    "        else:\n",
    "            r2_scores = {}\n",
    "\n",
    "        r2_scores.update(new_scores)\n",
    "\n",
    "        df = pd.DataFrame(list(r2_scores.items()), columns=[\"Model\", \"Score\"])\n",
    "        if not os.path.exists(os.path.dirname(path)):\n",
    "            os.makedirs(os.path.dirname(path))\n",
    "        df.to_csv(path, index=False)\n",
    "\n",
    "        print(\"Updated scores:\", r2_scores)\n",
    "\n",
    "    @staticmethod\n",
    "    def save_r2_table(path_csv, path_png):\n",
    "        \"\"\"\n",
    "        Save R² scores for models and generate a summary table image.\n",
    "        \n",
    "        Parameters:\n",
    "            model_scores (dict): Dictionary with model names as keys and R² scores as values.\n",
    "            save_path (str): File path to save the output table image.\n",
    "        \"\"\"\n",
    "        # Use csv if it already exists\n",
    "        if os.path.exists(path_csv):\n",
    "            df = pd.read_csv(path_csv)\n",
    "        # Create csv if it doesn't exist\n",
    "        else:\n",
    "            raise FileNotFoundError(f\"The file '{path_csv}' was not found.\")\n",
    "\n",
    "        # Fill NaN values with 0 and round R² scores\n",
    "        df[\"Score\"] = pd.to_numeric(df[\"Score\"], errors='coerce').fillna(0).round(4)\n",
    "\n",
    "        # Sort by Score descending\n",
    "        df = df.sort_values(by=\"Score\", ascending=False).reset_index(drop=True)\n",
    "\n",
    "        # Highest) R² score in bold\n",
    "        best_idx = df[\"Score\"].idxmax()\n",
    "        df[\"Score\"] = df[\"Score\"].astype(str)  # Ensure the column is in string format\n",
    "        df.loc[best_idx, \"Score\"] = f\"$\\\\bf{{{df.loc[best_idx, 'Score']}}}$\"  # LaTeX bold formatting\n",
    "\n",
    "        # Arrange the name\n",
    "        names = df[\"Model\"].tolist()\n",
    "        for i in range(len(names)):\n",
    "            names[i] = names[i].replace(\"_\", \" \") \n",
    "            names[i] = re.sub(r'([a-zA-Z])(\\d)', r'\\1 \\2', names[i]) # Separate letters and digits\n",
    "            names[i] = re.sub(r'\\b(all)\\b', '', names[i], flags=re.IGNORECASE) # Remove 'all'\n",
    "            names[i] = re.sub(r'\\s+', ' ', names[i]).strip()\n",
    "        df[\"Model\"] = names\n",
    "\n",
    "    \n",
    "        # Plot the table\n",
    "        row_height = 0.4  \n",
    "        fig_height = len(df) * row_height + 1  \n",
    "        fig, ax = plt.subplots(figsize=(8, fig_height))\n",
    "        ax.axis('tight')\n",
    "        ax.axis('off')\n",
    "\n",
    "        table = ax.table(\n",
    "            cellText=df.values,\n",
    "            colLabels=df.columns,\n",
    "            cellLoc='center',\n",
    "            loc='center'\n",
    "        )\n",
    "\n",
    "        # Style header and model column\n",
    "        header_color = \"#d1e7ff\"\n",
    "        for (row, col), cell in table.get_celld().items():\n",
    "            if row == 0:\n",
    "                cell.set_facecolor(header_color)\n",
    "            elif col == 0:\n",
    "                cell.set_facecolor(header_color)\n",
    "            cell.set_height(0.05)\n",
    "            cell.set_width(0.9)\n",
    "            cell.set_fontsize(12)\n",
    "\n",
    "        plt.tight_layout()\n",
    "\n",
    "        if not os.path.exists(os.path.dirname(path_png)):\n",
    "            os.makedirs(os.path.dirname(path_png))\n",
    "        plt.savefig(path_png, bbox_inches='tight')\n",
    "        plt.close()\n",
    "\n",
    "    @staticmethod\n",
    "    def plot_training_history(train_losses, valid_losses, r2_scores, lrs, epochs, model_name, layer_name):\n",
    "        \"\"\"\n",
    "        Plot the training history of the model.\n",
    "\n",
    "        Args:\n",
    "            train_losses (list): List of training losses.\n",
    "            valid_losses (list): List of validation losses.\n",
    "            r2_scores (list): List of R² scores.\n",
    "            lrs (list): List of learning rates.\n",
    "            epochs (int): Number of epochs.\n",
    "            model_name (str): Name of the model.\n",
    "            layer_name (str): Name of the layer.\n",
    "        \"\"\"\n",
    "        nb_plots = 2 if len(r2_scores) == 0 else 3\n",
    "\n",
    "        plt.figure(figsize=(6 * nb_plots, 5))\n",
    "\n",
    "        # Plot training and validation loss\n",
    "        plt.subplot(1, nb_plots, 1)\n",
    "        plt.plot(range(1, epochs + 1), train_losses, label='Train Loss', color='blue')\n",
    "        plt.plot(range(1, epochs + 1), valid_losses, label='Validation Loss', color='orange')\n",
    "        plt.xlabel('Epochs')\n",
    "        plt.ylabel('Loss')\n",
    "        plt.title(f'{model_name} - Training and Validation Loss')\n",
    "        plt.legend()\n",
    "\n",
    "        # Plot learning rate\n",
    "        plt.subplot(1, nb_plots, 2)\n",
    "        plt.plot(range(1, epochs + 1), lrs, label='Learning Rate', color='green')\n",
    "        plt.xlabel('Epochs')\n",
    "        plt.ylabel('Learning Rate')\n",
    "        plt.title(f'{model_name} - Learning Rate Schedule')\n",
    "        plt.legend()\n",
    "\n",
    "        if len(r2_scores) > 0:\n",
    "            # Plot R² scores\n",
    "            plt.subplot(1, 3, 3)\n",
    "            plt.plot(range(1, epochs + 1), r2_scores, label=r'$R^2$', color='green')\n",
    "            plt.xlabel('Epochs')\n",
    "            plt.ylabel(r'$R^2$')\n",
    "            plt.title(f'{model_name} - R² Score')\n",
    "            plt.legend()\n",
    "\n",
    "        if not os.path.exists(os.path.dirname('./saved/plots/')):\n",
    "            os.makedirs(os.path.dirname('./saved/plots/'))\n",
    "        \n",
    "        plt.savefig(f'./saved/plots/{model_name}_{layer_name}_training_history_{epochs}ep.png')\n",
    "        plt.close()"
   ]
  },
  {
   "cell_type": "markdown",
   "id": "99b3420a",
   "metadata": {},
   "source": [
    "To visualize an image given the corresponding stimulus:"
   ]
  },
  {
   "cell_type": "code",
   "execution_count": 15,
   "id": "fe622a50",
   "metadata": {},
   "outputs": [],
   "source": [
    "def visualize_img(stimulus,objects,stim_idx):\n",
    "    \"\"\"Visualize image given the stimulus and corresponding index and the object name.\n",
    "\n",
    "    Args:\n",
    "        stimulus (array of float): Stimulus containing all the images\n",
    "        objects (list of str): Object list containing all the names\n",
    "        stim_idx (int): Index of the stimulus to plot\n",
    "    \"\"\"    \n",
    "    normalize_mean=[0.485, 0.456, 0.406]\n",
    "    normalize_std=[0.229, 0.224, 0.225]\n",
    "\n",
    "    img_tmp = np.transpose(stimulus[stim_idx],[1,2,0])\n",
    "\n",
    "    ### Go back from normalization\n",
    "    img_tmp = (img_tmp*normalize_std + normalize_mean) * 255\n",
    "\n",
    "    plt.figure()\n",
    "    plt.imshow(img_tmp.astype(np.uint8),cmap='gray')\n",
    "    plt.title(str(objects[stim_idx]))\n",
    "    plt.show()\n",
    "    return"
   ]
  },
  {
   "cell_type": "markdown",
   "id": "590e712d",
   "metadata": {},
   "source": [
    "#### 4.3: Tools functions\n",
    "\n",
    "To load the data:"
   ]
  },
  {
   "cell_type": "code",
   "execution_count": 16,
   "id": "5cb5dc98",
   "metadata": {},
   "outputs": [],
   "source": [
    "def get_data():\n",
    "    \"\"\"Get the data from the IT dataset.\n",
    "\n",
    "    Returns:\n",
    "        tuple: tuples (stimulus, objects, spikes) for training and validation sets.\n",
    "    \"\"\"\n",
    "    stimulus_train, stimulus_val, stimulus_test, objects_train, objects_val, objects_test, spikes_train, spikes_val = load_it_data('./data/')\n",
    "    return (stimulus_train, objects_train, spikes_train), (stimulus_val, objects_val, spikes_val)\n",
    "\n",
    "def make_dataloader(batch_size, driven='data'):\n",
    "    \"\"\"Create a PyTorch data loader, depending on whether the model is data-driven or\n",
    "    task-driven.\n",
    "\n",
    "    Args:\n",
    "        batch_size (int): Batch size for the data loader.\n",
    "        driven (str, optional): 'data' if the model is data-driven, 'task' if the model is\n",
    "        task-driven. Defaults to 'data'.\n",
    "    \"\"\"\n",
    "    train_data, val_data = get_data()\n",
    "    if driven == 'task':\n",
    "        train_dataset = ITDataSet(train_data[0], train_data[1])\n",
    "        val_dataset = ITDataSet(val_data[0], val_data[1])\n",
    "        num_classes = len(set(train_data[1]))\n",
    "    elif driven == 'data':\n",
    "        train_dataset = TensorDataset(\n",
    "            torch.from_numpy(train_data[0]).float(),\n",
    "            torch.from_numpy(train_data[2]).float()\n",
    "        )\n",
    "\n",
    "        val_dataset = TensorDataset(\n",
    "            torch.from_numpy(val_data[0]).float(),\n",
    "            torch.from_numpy(val_data[2]).float()\n",
    "        )\n",
    "        num_classes = 168 # one output per neuron\n",
    "    else:\n",
    "        raise ValueError(\"driven must be either 'task' or 'data'\")\n",
    "    \n",
    "    trainloader = DataLoader(train_dataset, batch_size=batch_size, shuffle=True)\n",
    "    valloader = DataLoader(val_dataset, batch_size=batch_size, shuffle=False)\n",
    "    return trainloader, valloader, num_classes\n",
    "\n",
    "class ITDataSet(Dataset):\n",
    "    def __init__(self, images, labels):\n",
    "        super().__init__()\n",
    "        self.images = torch.from_numpy(images).float()\n",
    "        label_encoder = LabelEncoder()\n",
    "        encoded_labels = label_encoder.fit_transform(labels)\n",
    "        self.labels = encoded_labels\n",
    "\n",
    "    def __len__(self):\n",
    "        return len(self.images)\n",
    "    \n",
    "    def __getitem__(self, index):\n",
    "        image = self.images[index]\n",
    "        label = self.labels[index]\n",
    "        return image, label"
   ]
  },
  {
   "cell_type": "markdown",
   "id": "b00a7b38",
   "metadata": {},
   "source": [
    "To fit different regression models to the activations of the models:"
   ]
  },
  {
   "cell_type": "code",
   "execution_count": 17,
   "id": "cea068dc",
   "metadata": {},
   "outputs": [],
   "source": [
    "def fit(x, y, method, seed):\n",
    "    \"\"\"Fits a regression model to the activations of the model.\n",
    "\n",
    "    Args:\n",
    "        x (np.ndarray): the input data to the model.\n",
    "        y (np.ndarray): the target variable to fit the regression model to.\n",
    "        method (str): which method to use for the regression model.\n",
    "            'linear' for linear regression, 'ridge' for ridge regression, and 'mlp' for MLP.\n",
    "\n",
    "    Raises:\n",
    "        ValueError: if the method is not supported.\n",
    "\n",
    "    Returns:\n",
    "        model: the fitted regression model, that possess the method `predict`.\n",
    "    \"\"\"\n",
    "    if method == 'linear':\n",
    "        return _fit_linear_regression(x, y)\n",
    "    elif method == 'ridge':\n",
    "        return _fit_ridge_regression(x, y, seed)\n",
    "    elif method == 'mlp':\n",
    "        return _fit_mlp_regression(x, y, seed)\n",
    "    else:\n",
    "        raise ValueError(f\"Unknown method: {method}. Supported methods are 'linear', 'ridge', and 'mlp'.\")\n",
    "\n",
    "def _fit_linear_regression(x, y):\n",
    "    \"\"\"\n",
    "    Fits a linear regression model to the activations of the model.\n",
    "    Args:\n",
    "        x (np.ndarray): the input data to the model.\n",
    "        y (np.ndarray): the target variable to fit the regression model to.\n",
    "    Returns:\n",
    "        model: the fitted regression model, that possess the method `predict`.\n",
    "    \"\"\"\n",
    "    linreg = LinearRegression() \n",
    "    linreg.fit(x, y)\n",
    "    return linreg\n",
    "        \n",
    "def _fit_ridge_regression(x, y, seed):\n",
    "    \"\"\"\n",
    "    Fits a ridge regression model to the activations of the model.\n",
    "    Args:\n",
    "        x (np.ndarray): the input data to the model.\n",
    "        y (np.ndarray): the target variable to fit the regression model to.\n",
    "    Returns:\n",
    "        model: the fitted regression model, that possess the method `predict`.\n",
    "    \"\"\"\n",
    "    ridge = Ridge(random_state=seed)\n",
    "    ridge.fit(x, y)\n",
    "    return ridge\n",
    "\n",
    "def _fit_mlp_regression(x, y, seed): # TODO MLP does not work at all, find out why\n",
    "    \"\"\"\n",
    "    Trains an MLP to fit the activations of the model.\n",
    "    Args:\n",
    "        x (np.ndarray): the input data to the model.\n",
    "        y (np.ndarray): the target variable to fit the regression MLP to.\n",
    "    Returns:\n",
    "        model: the fitted regression model, that possess the method `predict`.\n",
    "        scaler: the scaler used to scale the input data.\n",
    "    \"\"\"\n",
    "    scaler = StandardScaler()\n",
    "    x_scaled = scaler.fit_transform(x)\n",
    "    mlp = MLPRegressor(hidden_layer_sizes=(64, 32), max_iter=200, early_stopping=True, verbose=True, random_state=seed) # max_iter is the number of epochs\n",
    "    mlp.fit(x_scaled, y)\n",
    "    return mlp, scaler"
   ]
  },
  {
   "cell_type": "markdown",
   "id": "446351e6",
   "metadata": {},
   "source": [
    "To select the optimizer:"
   ]
  },
  {
   "cell_type": "code",
   "execution_count": 18,
   "id": "5767f147",
   "metadata": {},
   "outputs": [],
   "source": [
    "def make_optimizer(name, model, lr, weight_decay):\n",
    "    \"\"\"Create an optimizer for the model.\n",
    "    Args:\n",
    "        name (str): name of the optimizer.\n",
    "        model (torch.nn.Module): model to optimize.\n",
    "        lr (float): learning rate.\n",
    "        weight_decay (float): weight decay.\n",
    "    \"\"\"\n",
    "    classif_params = list(model.fc.parameters())\n",
    "    all_params = list(model.parameters())\n",
    "    classif_param_ids = set(id(p) for p in classif_params)\n",
    "    base_params = [p for p in all_params if id(p) not in classif_param_ids]\n",
    "\n",
    "    if name == 'adamw':\n",
    "        return torch.optim.AdamW([\n",
    "            {'params': base_params, 'lr': 0.1 * lr},\n",
    "            {'params': classif_params, 'lr': lr}\n",
    "        ], weight_decay=weight_decay)\n",
    "    elif name == 'sgd':\n",
    "        return torch.optim.SGD([\n",
    "            {'params': base_params, 'lr': 0.1 * lr},\n",
    "            {'params': classif_params, 'lr': lr}\n",
    "        ], weight_decay=weight_decay)\n",
    "    else:\n",
    "        raise NotImplementedError(f\"Optimizer {name} is not implemented.\") "
   ]
  },
  {
   "cell_type": "markdown",
   "id": "569fcd6f",
   "metadata": {},
   "source": [
    "To make a learning rate scheduler for the optimizer:"
   ]
  },
  {
   "cell_type": "code",
   "execution_count": 19,
   "id": "b0d5ab62",
   "metadata": {},
   "outputs": [],
   "source": [
    "def make_scheduler(optimizer, warmup_epochs, args, train_loader):\n",
    "    \"\"\"\n",
    "    Creates a learning rate scheduler for the optimizer.\n",
    "    Args:\n",
    "        optimizer: The optimizer you're using.\n",
    "        warmup_epochs: Number of epochs for the warmup phase.\n",
    "        args: Arguments, must include total epochs `args.epochs`.\n",
    "        train_loader: The DataLoader for the training set (to determine steps per epoch).\n",
    "    \"\"\"\n",
    "    steps_per_epoch = len(train_loader)\n",
    "    warmup_steps = warmup_epochs * steps_per_epoch\n",
    "    warmup_scheduler = LambdaLR(optimizer, lr_lambda=lambda step: step / warmup_steps if step < warmup_steps else 1.0)\n",
    "    total_steps = steps_per_epoch * args.epochs\n",
    "    cosine_scheduler = CosineAnnealingLR(optimizer, T_max=total_steps - warmup_steps, eta_min=0)\n",
    "    lr_scheduler = SequentialLR(optimizer, schedulers=[warmup_scheduler, cosine_scheduler], milestones=[warmup_steps])\n",
    "    return lr_scheduler"
   ]
  },
  {
   "cell_type": "markdown",
   "id": "42c61a3d",
   "metadata": {},
   "source": [
    "To finetune the models:"
   ]
  },
  {
   "cell_type": "code",
   "execution_count": 20,
   "id": "66626be7",
   "metadata": {},
   "outputs": [],
   "source": [
    "def finetune(model, args):\n",
    "    \"\"\"Finetune the model on the IT dataset (data-driven or task-driven).\n",
    "    Args:\n",
    "        model (torch.nn.Module): model to finetune.\n",
    "        args (argparse.Namespace): arguments.\n",
    "    \"\"\"\n",
    "    trainloader, valloader, num_classes = make_dataloader(16, args.driven)\n",
    "    # Cut and set head after specific layer\n",
    "    model = model.change_head(args.layer, num_classes)\n",
    "    print(model)\n",
    "    optim = make_optimizer(args.optimizer, model, args.lr, 1e-5)\n",
    "    scheduler = make_scheduler(optim, 4, args, trainloader)\n",
    "\n",
    "    device = torch.device(\"cpu\")\n",
    "    if torch.cuda.is_available():\n",
    "        device = torch.device(\"cuda\")\n",
    "        model = model.to(device)\n",
    "\n",
    "    if args.driven == 'task':\n",
    "        # Finetunes the model by object (image) classification\n",
    "        criterion = nn.CrossEntropyLoss()\n",
    "        do_train(model, trainloader, valloader, optim, criterion, scheduler, args.epochs, device, args)\n",
    "    elif args.driven == 'data':\n",
    "        # Finetunes the model by data (neural) regression\n",
    "        criterion = nn.MSELoss()\n",
    "        do_train(model, trainloader, valloader, optim, criterion, scheduler, args.epochs, device, args)\n",
    "    else:\n",
    "        raise ValueError(f\"Unknown driven argument: {args.driven}. Supported methods are 'task' and 'data'.\")\n",
    "    \n",
    "    return model\n",
    "\n",
    "def do_train(model, train_loader, val_loader, optim, criterion, scheduler, epochs, device, args):\n",
    "    \"\"\"Train the model.\n",
    "    Args:\n",
    "        model (torch.nn.Module): model to train.\n",
    "        train_loader (torch.utils.data.DataLoader): training data loader.\n",
    "        val_loader (torch.utils.data.DataLoader): validation data loader.\n",
    "        optim (torch.optim.Optimizer): optimizer for the model.\n",
    "        criterion (torch.nn.Module): loss function.\n",
    "        scheduler (torch.optim.lr_scheduler._LRScheduler): learning rate scheduler.\n",
    "        epochs (int): number of epochs to train the model.\n",
    "        device (torch.device): device to use for training.\n",
    "        args (argparse.Namespace): arguments.\n",
    "    \"\"\"\n",
    "    train_losses = []\n",
    "    valid_losses = []\n",
    "    lrs = []\n",
    "    r2s = []\n",
    "\n",
    "    best_valid_loss = float('inf')\n",
    "    for epoch in range(epochs):\n",
    "        # ---- Training ----\n",
    "        model.train()\n",
    "        train_loss = 0.\n",
    "\n",
    "        for data, targets in tqdm(train_loader, desc=f'Epoch {epoch+1}/{epochs} - Training'):\n",
    "            data, targets = data.to(device, non_blocking=True), targets.to(device, non_blocking=True)\n",
    "\n",
    "            optim.zero_grad()\n",
    "            out = model(data)\n",
    "            loss = criterion(out, targets)\n",
    "\n",
    "            loss.backward()\n",
    "\n",
    "            torch.nn.utils.clip_grad_norm_(model.parameters(), 1.)\n",
    "            optim.step()\n",
    "            scheduler.step()\n",
    "\n",
    "            train_loss += loss.item() * data.size(0)\n",
    "\n",
    "        train_loss /= len(train_loader.dataset)\n",
    "        print(f'Train Loss: {train_loss:.4f}')\n",
    "       \n",
    "        # ---- Validation ----\n",
    "        model.eval()\n",
    "        valid_loss = 0.\n",
    "        all_preds = []\n",
    "        all_targets = []\n",
    "\n",
    "        with torch.no_grad():\n",
    "            for data, targets in tqdm(val_loader, desc=f'Epoch {epoch+1}/{epochs} - Validation'):\n",
    "                data, targets = data.to(device, non_blocking=True), targets.to(device, non_blocking=True)\n",
    "                out = model(data)\n",
    "\n",
    "                loss = criterion(out, targets)\n",
    "                valid_loss += loss.item() * data.size(0)\n",
    "\n",
    "                all_preds.append(out.cpu())\n",
    "                all_targets.append(targets.cpu())\n",
    "\n",
    "        valid_loss /= len(val_loader.dataset)\n",
    "\n",
    "        if args.driven == 'data':\n",
    "            # Stack all batches to compute R2\n",
    "            all_preds = torch.cat(all_preds).numpy()\n",
    "            all_targets = torch.cat(all_targets).numpy()\n",
    "            r2 = r2_score(all_targets, all_preds)\n",
    "            r2s.append(r2)\n",
    "\n",
    "        print(f'Validation Loss: {valid_loss:.4f}{f\"| R^2 score: {r2:.4f}\" if args.driven == \"data\" else \"\"}')\n",
    "\n",
    "        if valid_loss < best_valid_loss:\n",
    "            best_valid_loss = valid_loss\n",
    "            torch.save(model.state_dict(), f'saved/models/{args.name}_best_model.pth')\n",
    "            print(f'Saved best model with validation loss: {best_valid_loss:.4f}')\n",
    "\n",
    "        # ---- Logging ----\n",
    "        train_losses.append(train_loss)\n",
    "        valid_losses.append(valid_loss)\n",
    "        lrs.append(scheduler.get_last_lr()[0])\n",
    "        print(f'Learning Rate: {scheduler.get_last_lr()[0]:.10f}')\n",
    "\n",
    "    # Plot the training history\n",
    "    Plotter.plot_training_history(train_losses, valid_losses, r2s, lrs, epochs, args.name, args.layer)"
   ]
  },
  {
   "cell_type": "markdown",
   "id": "73d0545d",
   "metadata": {},
   "source": [
    "To probe the models:"
   ]
  },
  {
   "cell_type": "code",
   "execution_count": null,
   "id": "03856d66",
   "metadata": {},
   "outputs": [],
   "source": [
    "def score(model, layer_name, args):\n",
    "    \"\"\"\n",
    "    Score for a data-driven finetuned model.\n",
    "    Args:\n",
    "        model (IModel): the model.\n",
    "        layer_name (str): name of the layer where the model has been cut.\n",
    "        args (argparse.Namespace): arguments.\n",
    "    \"\"\"\n",
    "    with torch.no_grad():\n",
    "        _, val_data = get_data()\n",
    "        stimulus_val, _, spikes_val = val_data\n",
    "        stimulus_val = torch.from_numpy(stimulus_val)\n",
    "        spikes_val = torch.from_numpy(spikes_val)\n",
    "\n",
    "        print('Computing activations...')\n",
    "        out = model(stimulus_val)\n",
    "\n",
    "        _compute_score(spikes_val, out, layer_name, args)\n",
    "        print('DONE!')\n",
    "\n",
    "def linprob(model, seed, args):\n",
    "    \"\"\"Linear probing of the model.\n",
    "\n",
    "    Args:\n",
    "        model (IModel): the model.\n",
    "        args (argparse.Namespace): arguments.\n",
    "    \"\"\"\n",
    "    if args.driven == 'data' and args.finetune:\n",
    "        _linprob_finetuned(model, seed, args)\n",
    "    else:\n",
    "        _linprob(model, seed, args)\n",
    "\n",
    "def _linprob_finetuned(model, seed, args):\n",
    "    \"\"\"\n",
    "    In this case, the finetuning is done after a given layer (in args). We thus need to probe\n",
    "    only the previous to last layer (last is MLP).\n",
    "    \"\"\"\n",
    "    model.eval()\n",
    "    with torch.no_grad():\n",
    "        train_data, val_data = get_data()\n",
    "        stimulus_train, _, spikes_train = train_data\n",
    "        stimulus_train = torch.from_numpy(stimulus_train)\n",
    "        spikes_train = torch.from_numpy(spikes_train)\n",
    "        stimulus_val, _, spikes_val = val_data\n",
    "        stimulus_val = torch.from_numpy(stimulus_val)\n",
    "        spikes_val = torch.from_numpy(spikes_val)\n",
    "\n",
    "        print('Registering hooks...')\n",
    "        handles = model.register_hook(args.hook, args.finetune, args.layer)\n",
    "        \n",
    "        print('Computing activations...')\n",
    "        model(stimulus_train)\n",
    "        activations = model.get_activations(args.hook)\n",
    "\n",
    "        print('\\tLayer:', args.layer)\n",
    "        regression = fit(activations, spikes_train, method=args.probing, seed=seed)\n",
    "\n",
    "        # Test the regression on the validation set\n",
    "        print('Testing the regression...')\n",
    "        model.reset_activations()\n",
    "\n",
    "        model(stimulus_val)\n",
    "        activations = model.get_activations(args.hook)\n",
    "\n",
    "        ## Remove handles\n",
    "        for handle in handles:\n",
    "            handle.remove()\n",
    "        \n",
    "        print('\\tLayer:', args.layer)\n",
    "        if isinstance(regression, tuple): # MLP returns both the model and the scaler\n",
    "            regression, scaler = regression\n",
    "            activations = scaler.transform(activations)\n",
    "        pred_activity = regression.predict(activations)\n",
    "        _compute_score(spikes_val, pred_activity, args.layer, args)\n",
    "        print('Done!')\n",
    "\n",
    "def _linprob(model, seed, args):\n",
    "    model.eval()\n",
    "    layer_regressions = dict()\n",
    "    save_folder = os.path.join(os.getcwd(), 'saved')\n",
    "\n",
    "    with torch.no_grad():\n",
    "        train_data, val_data = get_data()\n",
    "        stimulus_train, _, spikes_train = train_data\n",
    "        stimulus_train = torch.from_numpy(stimulus_train)\n",
    "        spikes_train = torch.from_numpy(spikes_train)\n",
    "        stimulus_val, _, spikes_val = val_data\n",
    "        stimulus_val = torch.from_numpy(stimulus_val)\n",
    "        spikes_val = torch.from_numpy(spikes_val)\n",
    "\n",
    "        print('Registering hooks...')\n",
    "        handles = model.register_hook(args.hook, args.finetune, args.layer)\n",
    "        \n",
    "        # Fit the regression on the activations of the training set\n",
    "        print('Computing activations...')\n",
    "        save_folder = os.path.join(os.getcwd(), 'saved')\n",
    "        if args.saved and os.path.exists(f'{save_folder}/activations/{args.name}_{args.hook}_train_activations.pt'):\n",
    "            print('Loading saved training activations...')\n",
    "            activations = torch.load(f'{save_folder}/activations/{args.name}_{args.hook}_train_activations.pt', weights_only=False)\n",
    "        else:\n",
    "            model(stimulus_train)\n",
    "            activations = model.get_activations(args.hook)\n",
    "            torch.save(activations, f'{save_folder}/activations/{args.name}_{args.hook}_train_activations.pt')\n",
    "\n",
    "        print('Fitting the regressions...')\n",
    "        layers = model.get_layers(args.layer) if args.finetune else model.get_layers()\n",
    "        for layer_name, _ in layers:\n",
    "            print('\\tLayer:', layer_name)\n",
    "            layer_regressions[layer_name] = fit(activations[layer_name], spikes_train, method=args.probing, seed=seed)\n",
    "\n",
    "        # Test the regression on the validation set\n",
    "        print('Testing the regression...')\n",
    "        model.reset_activations()\n",
    "\n",
    "        if args.saved and os.path.exists(f'{save_folder}/activations/{args.name}_{args.hook}_valid_activations.pt'):\n",
    "            print('Loading saved validation activations...')\n",
    "            activations = torch.load(f'{save_folder}/activations/{args.name}_{args.hook}_valid_activations.pt', weights_only=False)\n",
    "        else:\n",
    "            model(stimulus_val)\n",
    "            activations = model.get_activations(args.hook)\n",
    "            torch.save(activations, f'{save_folder}/activations/{args.name}_{args.hook}_valid_activations.pt')\n",
    "\n",
    "        ## Remove handles\n",
    "        for handle in handles:\n",
    "            handle.remove()\n",
    "        \n",
    "        for layer_name, regr in layer_regressions.items():\n",
    "            print('\\tLayer:', layer_name)\n",
    "            if isinstance(regr, tuple): # MLP returns both the model and the scaler\n",
    "                regr, scaler = regr\n",
    "                activations[layer_name] = scaler.transform(activations[layer_name])\n",
    "            pred_activity = regr.predict(activations[layer_name])\n",
    "            _compute_score(spikes_val, pred_activity, layer_name, args)\n",
    "        print('Done!')\n",
    "\n",
    "def _compute_score(y_true, y_pred, layer_name, args):\n",
    "    save_folder = os.path.join(os.getcwd(), 'saved')\n",
    "    correlations = []\n",
    "    for i in range(y_true.shape[1]):\n",
    "        corr, _ = pearsonr(y_pred[:, i], y_true[:, i])\n",
    "        correlations.append(corr)\n",
    "\n",
    "    # Compute mean R² score\n",
    "    r2 = r2_score(y_true, y_pred)\n",
    "    name = f'{args.name}_{\"finetuned\" if args.finetune else \"pretrained\"}_{layer_name}{f\"_{args.probing}\" if not args.finetune else \"\"}_{args.hook}'\n",
    "    new_score = {name: r2}\n",
    "    Plotter.update_r2_score_csv(new_score, f\"{save_folder}/r2_scores.csv\")\n",
    "    Plotter.save_r2_table(\n",
    "        path_csv=f\"{save_folder}/r2_scores.csv\",\n",
    "        path_png=f\"{save_folder}/r2_scores.png\"\n",
    "    )\n",
    "\n",
    "    Plotter.save_corr_plot(\n",
    "        data=correlations,\n",
    "        title=f'[{args.name}/{args.probing if not args.finetune else \"finetuned\"}/{args.hook}]\\nCorrelation between predicted and actual spikes for layer {layer_name}',\n",
    "        path=f'{save_folder}/figures/corr_{args.name}_{\"finetuned\" if args.finetune else \"pretrained\"}_{layer_name}{f\"_{args.probing}\" if not args.finetune else \"\"}_{args.hook}_.png'\n",
    "    )"
   ]
  },
  {
   "cell_type": "markdown",
   "id": "b68e5771",
   "metadata": {},
   "source": [
    "#### 4.4: Main python cell to use the rest of the code"
   ]
  },
  {
   "cell_type": "code",
   "execution_count": 35,
   "id": "f693dd8b",
   "metadata": {},
   "outputs": [],
   "source": [
    "# Set the Parameters\n",
    "\n",
    "class args():\n",
    "    \"\"\"\n",
    "    Abstract base class for the parameters.\n",
    "    \n",
    "    Args:\n",
    "        name: Model name (str)\n",
    "        Models available:\n",
    "        Simple\n",
    "        - `lin_reg`\n",
    "        - `ridge_reg`\n",
    "        - `mlp_reg`\n",
    "        Pretrained\n",
    "        - `ResNet18`\n",
    "        - `ResNet50`\n",
    "        - `ResNeXt`\n",
    "        - `ConvNeXt`\n",
    "        - `ViT`\n",
    "        - `DinoV2`\n",
    "        finetune: Whether to finetune the model or use as is\n",
    "        driven: Data- or task-driven finetuning (str)\n",
    "            - `data`: data-driven modeling approach\n",
    "            - `task`: task-driven modeling approach\n",
    "        hook: Hook name (str)\n",
    "        probing: Probing method (only for task-driven) (str)\n",
    "            - `linear`: linear regression probing\n",
    "            - `ridge`: Ridge regression probing\n",
    "            - `mlp`: MLP regression probing\n",
    "        layer: Layer name (only for finetuning) (str)\n",
    "            For the pretrained models, the layers to test are automatically selected.\n",
    "        optimizer: Optimizer name (str)\n",
    "            - `adamw`: AdamW optimizer\n",
    "             - `sgd`: Stochastic Gradient Descent\n",
    "        lr: Learning rate for finetuning (float)\n",
    "        epochs: Number of epochs for finetuning (int)\n",
    "        saved: Use saved activations, if any. Default is to not use them. \n",
    "    \n",
    "    \"\"\"\n",
    "    def __init__(self, name_='ResNet18', finetune_=False, driven_='data', hook_='all', probing_='linear', layer_='layer3', optimizer_='adamw', lr_=1e-5, epochs_=30, saved_=False):\n",
    "        self.name = name_\n",
    "        self.finetune = finetune_\n",
    "        self.driven = driven_\n",
    "        self.hook = hook_\n",
    "        self.probing= probing_\n",
    "        self.layer=layer_\n",
    "        self.optimizer=optimizer_\n",
    "        self.lr=lr_\n",
    "        self.epochs=epochs_\n",
    "        self.saved=saved_"
   ]
  },
  {
   "cell_type": "markdown",
   "id": "51a69379",
   "metadata": {},
   "source": [
    "If you want to play around with our methods (finetune a model, probe it, change the head, ...), you can do so with the following main method. However, we don't recommand trying that on the Jupyter notebook, it is likely the kernel will crash due to the limitations of this format."
   ]
  },
  {
   "cell_type": "code",
   "execution_count": 52,
   "id": "b84d039a",
   "metadata": {},
   "outputs": [],
   "source": [
    "def main(args):\n",
    "    seed = set_seed()\n",
    "    download_data('./data/') # Download the data if not already done\n",
    "    model = make_model(args.name, seed)\n",
    "    if args.finetune:\n",
    "        model = finetune(model, args)\n",
    "        model.load_state_dict(torch.load(f'./saved/models/{args.name}_best_model.pth'))\n",
    "        model.to('cpu') # Make sure the model is back on CPU\n",
    "    else:\n",
    "        print(model)\n",
    "\n",
    "    if not args.finetune or args.driven == 'task':\n",
    "        linprob(model, seed, args)\n",
    "    else:\n",
    "        # No need to do probing, just pass through the model\n",
    "        score(model, args.layer, args)\n",
    "\n",
    "parameters = args(name_='ResNeXt', finetune_=True, driven_='data', hook_='all', probing_='linear', layer_='layer3', optimizer_='adamw', lr_=1e-5, epochs_=30, saved_=False)\n",
    "#main(parameters)"
   ]
  },
  {
   "cell_type": "markdown",
   "id": "e3cb6a7c",
   "metadata": {},
   "source": [
    "## Loading the best model"
   ]
  },
  {
   "cell_type": "markdown",
   "id": "c13c2a31",
   "metadata": {},
   "source": [
    "Our best $R^2$ score was obtained by finetuning in a data-driven way a pretrained ResNeXt model."
   ]
  },
  {
   "cell_type": "code",
   "execution_count": 66,
   "id": "bd6c4188",
   "metadata": {},
   "outputs": [
    {
     "name": "stdout",
     "output_type": "stream",
     "text": [
      "Model prepared...\n"
     ]
    }
   ],
   "source": [
    "seed = set_seed()\n",
    "model = make_model('ResNeXt', seed)\n",
    "model = model.change_head('layer3', 168)\n",
    "model.to('cpu')\n",
    "print('Model prepared...')"
   ]
  },
  {
   "cell_type": "markdown",
   "id": "45fe6df0",
   "metadata": {},
   "source": [
    "We can now load our saved weights (https://drive.google.com/file/d/12apWfWDgrv2yiqbcZ0jHm8yYWdOX94ze/view?usp=sharing):"
   ]
  },
  {
   "cell_type": "code",
   "execution_count": null,
   "id": "c18f1eb6",
   "metadata": {},
   "outputs": [],
   "source": [
    "weights = torch.load('best_model.pth', map_location='cpu')\n",
    "model.load_state_dict(weights)"
   ]
  },
  {
   "cell_type": "markdown",
   "id": "d87d377c",
   "metadata": {},
   "source": [
    "## Inference time!"
   ]
  },
  {
   "cell_type": "markdown",
   "id": "54540d1b",
   "metadata": {},
   "source": [
    "Let's try our model on the validation data and check the $R^2$ score we obtain."
   ]
  },
  {
   "cell_type": "code",
   "execution_count": 55,
   "id": "aa25b258",
   "metadata": {},
   "outputs": [
    {
     "name": "stdout",
     "output_type": "stream",
     "text": [
      "Computing activations...\n",
      "Updated scores: {'ResNet18_finetuned_layer3_all': 0.3485784341161019, 'ResNeXt_finetuned_layer3_all': 0.3485784341161019}\n",
      "DONE!\n"
     ]
    }
   ],
   "source": [
    "score(model, 'layer3', parameters)"
   ]
  },
  {
   "cell_type": "code",
   "execution_count": null,
   "id": "fa1cc065",
   "metadata": {},
   "outputs": [],
   "source": []
  }
 ],
 "metadata": {
  "kernelspec": {
   "display_name": "nx414",
   "language": "python",
   "name": "python3"
  },
  "language_info": {
   "codemirror_mode": {
    "name": "ipython",
    "version": 3
   },
   "file_extension": ".py",
   "mimetype": "text/x-python",
   "name": "python",
   "nbconvert_exporter": "python",
   "pygments_lexer": "ipython3",
   "version": "3.11.11"
  }
 },
 "nbformat": 4,
 "nbformat_minor": 5
}
